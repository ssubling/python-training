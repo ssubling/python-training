{
 "cells": [
  {
   "cell_type": "markdown",
   "metadata": {},
   "source": [
    "# Question 1\n",
    "\n",
    "**Question 1**\n",
    "\n",
    "Level 1\n",
    "\n",
    "Question:\n",
    "Write a program which will find all such numbers which are divisible by 7 but are not a multiple of 5,\n",
    "between 2000 and 3200 (both included).\n",
    "The numbers obtained should be printed in a comma-separated sequence on a single line."
   ]
  },
  {
   "cell_type": "code",
   "execution_count": 1,
   "metadata": {},
   "outputs": [],
   "source": [
    "number_list = []\n",
    "for i in range(2000, 3200):\n",
    "    if i % 7 ==0 and i % 5 != 0 :\n",
    "        number_list.append(i)"
   ]
  },
  {
   "cell_type": "code",
   "execution_count": 4,
   "metadata": {},
   "outputs": [],
   "source": [
    "number_list\n",
    "string = ','.join(map(str, number_list)) "
   ]
  },
  {
   "cell_type": "code",
   "execution_count": 6,
   "metadata": {},
   "outputs": [
    {
     "data": {
      "text/plain": [
       "'2002,2009,2016,2023,2037,2044,2051,2058,2072,2079,2086,2093,2107,2114,2121,2128,2142,2149,2156,2163,2177,2184,2191,2198,2212,2219,2226,2233,2247,2254,2261,2268,2282,2289,2296,2303,2317,2324,2331,2338,2352,2359,2366,2373,2387,2394,2401,2408,2422,2429,2436,2443,2457,2464,2471,2478,2492,2499,2506,2513,2527,2534,2541,2548,2562,2569,2576,2583,2597,2604,2611,2618,2632,2639,2646,2653,2667,2674,2681,2688,2702,2709,2716,2723,2737,2744,2751,2758,2772,2779,2786,2793,2807,2814,2821,2828,2842,2849,2856,2863,2877,2884,2891,2898,2912,2919,2926,2933,2947,2954,2961,2968,2982,2989,2996,3003,3017,3024,3031,3038,3052,3059,3066,3073,3087,3094,3101,3108,3122,3129,3136,3143,3157,3164,3171,3178,3192,3199'"
      ]
     },
     "execution_count": 6,
     "metadata": {},
     "output_type": "execute_result"
    }
   ],
   "source": [
    "string"
   ]
  },
  {
   "cell_type": "markdown",
   "metadata": {},
   "source": [
    "# Question 2\n",
    "\n",
    "Level 1\n",
    "\n",
    "Question:\n",
    "Write a program which can compute the factorial of a given numbers.\n",
    "The results should be printed in a comma-separated sequence on a single line.\n",
    "Suppose the following input is supplied to the program:\n",
    "8\n",
    "Then, the output should be:\n",
    "40320"
   ]
  },
  {
   "cell_type": "code",
   "execution_count": 18,
   "metadata": {},
   "outputs": [
    {
     "name": "stdout",
     "output_type": "stream",
     "text": [
      "6,24,120\n"
     ]
    }
   ],
   "source": [
    "def factorial(n):\n",
    "    if n == 0 : \n",
    "        return 1\n",
    "    else:\n",
    "        return  n * factorial (n-1)\n",
    "    \n",
    "def question2(n_list):\n",
    "    result = []\n",
    "    for n in n_list :\n",
    "        result.append(factorial(n))\n",
    "    return result\n",
    "\n",
    "\n",
    "print(','.join(map(str, question2([3,4,5]))))"
   ]
  },
  {
   "cell_type": "code",
   "execution_count": 31,
   "metadata": {},
   "outputs": [
    {
     "name": "stdout",
     "output_type": "stream",
     "text": [
      "6,24,120\n"
     ]
    }
   ],
   "source": [
    "n_list = [3,4,5]\n",
    "output_list = []\n",
    "\n",
    "for i in n_list : \n",
    "    factorial =1 \n",
    "    for i in range(2,i+1) : \n",
    "        factorial *=i  \n",
    "    output_list.append(factorial)\n",
    "output_list\n",
    "\n",
    "print(','.join(map(str, output_list)))"
   ]
  },
  {
   "cell_type": "markdown",
   "metadata": {},
   "source": [
    "# Question 3\n",
    "\n",
    "Level 1\n",
    "\n",
    "Question:\n",
    "With a given integral number n, write a program to generate a dictionary that contains (i, i*i) such that is an integral number between 1 and n (both included). and then the program should print the dictionary.\n",
    "Suppose the following input is supplied to the program:\n",
    "8\n",
    "Then, the output should be:\n",
    "{1: 1, 2: 4, 3: 9, 4: 16, 5: 25, 6: 36, 7: 49, 8: 64}"
   ]
  },
  {
   "cell_type": "code",
   "execution_count": 44,
   "metadata": {},
   "outputs": [
    {
     "name": "stdout",
     "output_type": "stream",
     "text": [
      "{1: 1, 2: 4, 3: 9}\n"
     ]
    }
   ],
   "source": [
    "given_numbers = [1,2,3] \n",
    "dict(((i, i*i) for i in given_numbers))  #베낀거\n",
    "\n",
    "result = {}\n",
    "for i in given_numbers:\n",
    "    result[i] = i * i\n",
    "print(result) #현실가능한....."
   ]
  },
  {
   "cell_type": "code",
   "execution_count": 46,
   "metadata": {},
   "outputs": [
    {
     "name": "stdout",
     "output_type": "stream",
     "text": [
      "{1: 1, 2: 4, 3: 9}\n"
     ]
    }
   ],
   "source": [
    "given_numbers = [1,2,3] \n",
    "result = {}\n",
    "for i in given_numbers:\n",
    "    result[i] = i * i\n",
    "print(result) #현실가능한....."
   ]
  },
  {
   "cell_type": "markdown",
   "metadata": {},
   "source": [
    "# Question 4\n",
    "\n",
    "Question:\n",
    "Write a program which accepts a sequence of comma-separated numbers from console and generate a list and a tuple which contains every number.\n",
    "Suppose the following input is supplied to the program:\n",
    "34,67,55,33,12,98\n",
    "Then, the output should be:\n",
    "['34', '67', '55', '33', '12', '98']\n",
    "('34', '67', '55', '33', '12', '98')"
   ]
  },
  {
   "cell_type": "code",
   "execution_count": 56,
   "metadata": {},
   "outputs": [
    {
     "name": "stdout",
     "output_type": "stream",
     "text": [
      "Input some comma seprated numbers : 1,2,3\n",
      "['1', '2', '3']\n",
      "('1', '2', '3')\n"
     ]
    }
   ],
   "source": [
    "\n",
    "values= input(\"Input some comma seprated numbers : \")\n",
    "result_list = values.split(\",\")\n",
    "result_tuple = tuple(result_list)\n",
    "\n",
    "print(result_list)\n",
    "print(result_tuple)"
   ]
  },
  {
   "cell_type": "markdown",
   "metadata": {},
   "source": [
    "# Question 5\n",
    "\n",
    "Level 1\n",
    "\n",
    "Question:\n",
    "Define a class which has at least two methods:\n",
    "getString: to get a string from console input\n",
    "printString: to print the string in upper case.\n",
    "Also please include simple test function to test the class methods."
   ]
  },
  {
   "cell_type": "markdown",
   "metadata": {},
   "source": [
    "getString to get a string from console input \n",
    "\n",
    "printString to print the string in upper case"
   ]
  },
  {
   "cell_type": "code",
   "execution_count": 87,
   "metadata": {},
   "outputs": [],
   "source": [
    "class question5:\n",
    "    def __init__(self):\n",
    "        self.result = \"\"\n",
    "    def getString(self):\n",
    "        self.result = input(\"입력하세요 : \")\n",
    "    def printString(self):\n",
    "        return self.result.upper()\n"
   ]
  },
  {
   "cell_type": "code",
   "execution_count": 90,
   "metadata": {},
   "outputs": [],
   "source": [
    "test = question5()"
   ]
  },
  {
   "cell_type": "code",
   "execution_count": 85,
   "metadata": {},
   "outputs": [
    {
     "name": "stdout",
     "output_type": "stream",
     "text": [
      "입력하세요 : too difficult\n"
     ]
    }
   ],
   "source": [
    "test.getString()"
   ]
  },
  {
   "cell_type": "code",
   "execution_count": 86,
   "metadata": {},
   "outputs": [
    {
     "data": {
      "text/plain": [
       "'TOO DIFFICULT'"
      ]
     },
     "execution_count": 86,
     "metadata": {},
     "output_type": "execute_result"
    }
   ],
   "source": [
    "test.printString()"
   ]
  },
  {
   "cell_type": "markdown",
   "metadata": {},
   "source": [
    "# Question 6\n",
    "\n",
    "Question:\n",
    "Write a program that calculates and prints the value according to the given formula:\n",
    "Q = Square root of [(2 * C * D)/H]\n",
    "Following are the fixed values of C and H:\n",
    "C is 50. H is 30.\n",
    "D is the variable whose values should be input to your program in a comma-separated sequence.\n",
    "Example\n",
    "Let us assume the following comma separated input sequence is given to the program:\n",
    "100,150,180\n",
    "The output of the program should be:\n",
    "18,22,24"
   ]
  },
  {
   "cell_type": "code",
   "execution_count": null,
   "metadata": {},
   "outputs": [],
   "source": [
    "import math\n",
    "\n",
    "C = 50\n",
    "H = 30\n",
    "\n",
    "\n",
    "def formula (D):\n",
    "    return int(math.sqrt(2 * C * D / H ))\n",
    "\n",
    "def get_numbers():\n",
    "    values = input(\"Input some comma seprated numbers : \")\n",
    "    return values\n",
    "    \n",
    "def get_list_from_values(values):\n",
    "    return values.split(\",\")\n",
    "\n",
    "def get_answer (value_list):\n",
    "    result =[]\n",
    "    for i in value_list :\n",
    "        result.append(formula(int(i)))\n",
    "        print (formula(int(i)))\n",
    "    return result "
   ]
  },
  {
   "cell_type": "code",
   "execution_count": 134,
   "metadata": {},
   "outputs": [
    {
     "name": "stdout",
     "output_type": "stream",
     "text": [
      "Input some comma seprated numbers : 100, 150, 180\n",
      "100\n",
      "150\n",
      "180\n"
     ]
    },
    {
     "data": {
      "text/plain": [
       "[18, 22, 24]"
      ]
     },
     "execution_count": 134,
     "metadata": {},
     "output_type": "execute_result"
    }
   ],
   "source": [
    "get_answer(get_list_from_values(get_numbers()))\n"
   ]
  },
  {
   "cell_type": "code",
   "execution_count": 143,
   "metadata": {},
   "outputs": [
    {
     "name": "stdout",
     "output_type": "stream",
     "text": [
      "Input some comma seprated numbers : 1,2,3\n",
      "[1, 2, 3]\n"
     ]
    }
   ],
   "source": [
    "import math\n",
    "\n",
    "C = 50\n",
    "H = 30\n",
    "\n",
    "\n",
    "def formula (D):\n",
    "    return int(math.sqrt(2 * C * D / H ))\n",
    "\n",
    "def main():\n",
    "    values = input(\"Input some comma seprated numbers : \")\n",
    "    result = list(map(lambda i: formula(int(i)), values.split(\",\")))\n",
    "    print(result)\n",
    "    \n",
    "main()"
   ]
  },
  {
   "cell_type": "markdown",
   "metadata": {},
   "source": [
    "# Question 7\n",
    "\n",
    "Level 2\n",
    "\n",
    "Question:\n",
    "Write a program which takes 2 digits, X,Y as input and generates a 2-dimensional array. The element value in the i-th row and j-th column of the array should be i*j.\n",
    "Note: i=0,1.., X-1; j=0,1,¡­Y-1.\n",
    "Example\n",
    "Suppose the following inputs are given to the program:\n",
    "3,5\n",
    "Then, the output of the program should be:\n",
    "[[0, 0, 0, 0, 0], [0, 1, 2, 3, 4], [0, 2, 4, 6, 8]]"
   ]
  },
  {
   "cell_type": "code",
   "execution_count": null,
   "metadata": {},
   "outputs": [],
   "source": [
    "row_num = int(input(\"Input number of rows: \"))"
   ]
  },
  {
   "cell_type": "code",
   "execution_count": 3,
   "metadata": {},
   "outputs": [
    {
     "name": "stdout",
     "output_type": "stream",
     "text": [
      "Input number of columns: 3,5\n"
     ]
    },
    {
     "ename": "ValueError",
     "evalue": "invalid literal for int() with base 10: '3,5'",
     "output_type": "error",
     "traceback": [
      "\u001b[0;31m---------------------------------------------------------------------------\u001b[0m",
      "\u001b[0;31mValueError\u001b[0m                                Traceback (most recent call last)",
      "\u001b[0;32m<ipython-input-3-17e1a6f43e75>\u001b[0m in \u001b[0;36m<module>\u001b[0;34m\u001b[0m\n\u001b[0;32m----> 1\u001b[0;31m \u001b[0mcol_num\u001b[0m \u001b[0;34m=\u001b[0m \u001b[0mint\u001b[0m\u001b[0;34m(\u001b[0m\u001b[0minput\u001b[0m\u001b[0;34m(\u001b[0m\u001b[0;34m\"Input number of columns: \"\u001b[0m\u001b[0;34m)\u001b[0m\u001b[0;34m)\u001b[0m\u001b[0;34m\u001b[0m\u001b[0;34m\u001b[0m\u001b[0m\n\u001b[0m",
      "\u001b[0;31mValueError\u001b[0m: invalid literal for int() with base 10: '3,5'"
     ]
    }
   ],
   "source": [
    "col_num = int(input(\"Input number of columns: \"))"
   ]
  },
  {
   "cell_type": "code",
   "execution_count": 5,
   "metadata": {},
   "outputs": [
    {
     "name": "stdout",
     "output_type": "stream",
     "text": [
      "Input number of rows: 3\n",
      "Input number of columns: 5\n"
     ]
    }
   ],
   "source": [
    "row_num = int(input(\"Input number of rows: \"))\n",
    "col_num = int(input(\"Input number of columns: \"))\n",
    "multi_list = [[0 for col in range(col_num)] for row in range(row_num)]"
   ]
  },
  {
   "cell_type": "code",
   "execution_count": 6,
   "metadata": {},
   "outputs": [
    {
     "data": {
      "text/plain": [
       "[[0, 0, 0, 0, 0], [0, 0, 0, 0, 0], [0, 0, 0, 0, 0]]"
      ]
     },
     "execution_count": 6,
     "metadata": {},
     "output_type": "execute_result"
    }
   ],
   "source": [
    "multi_list"
   ]
  },
  {
   "cell_type": "code",
   "execution_count": 7,
   "metadata": {},
   "outputs": [],
   "source": [
    "for row in range(row_num):\n",
    "    for col in range(col_num):\n",
    "        multi_list[row][col] = row*col"
   ]
  },
  {
   "cell_type": "code",
   "execution_count": 8,
   "metadata": {},
   "outputs": [
    {
     "data": {
      "text/plain": [
       "1"
      ]
     },
     "execution_count": 8,
     "metadata": {},
     "output_type": "execute_result"
    }
   ],
   "source": [
    "a = [0, [0, 1, 2], 2]\n",
    "a[1][1]"
   ]
  },
  {
   "cell_type": "markdown",
   "metadata": {},
   "source": [
    "# Question 8\n",
    "Level 2\n",
    "\n",
    "Question:\n",
    "Write a program that accepts a comma separated sequence of words as input and prints the words in a comma-separated sequence after sorting them alphabetically.\n",
    "Suppose the following input is supplied to the program:\n",
    "without,hello,bag,world\n",
    "Then, the output should be:\n",
    "bag,hello,without,world"
   ]
  },
  {
   "cell_type": "code",
   "execution_count": 26,
   "metadata": {},
   "outputs": [
    {
     "name": "stdout",
     "output_type": "stream",
     "text": [
      "Input number of rows: without,hello,bag,world \n",
      "['bag', 'hello', 'without', 'world ']\n"
     ]
    }
   ],
   "source": [
    "list1 = input(\"Input number of rows: \")\n",
    "result_list = list1.split(\",\")\n",
    "list2 = sorted(result_list, key = str.lower)\n",
    "print(list2)"
   ]
  },
  {
   "cell_type": "markdown",
   "metadata": {},
   "source": [
    "# Question 9\n",
    "Level 2\n",
    "\n",
    "Question: \n",
    "Write a program that accepts sequence of lines as input and prints the lines after making all characters in the sentence capitalized.\n",
    "Suppose the following input is supplied to the program:\n",
    "Hello world\n",
    "Practice makes perfect\n",
    "Then, the output should be:\n",
    "HELLO WORLD\n",
    "PRACTICE MAKES PERFECT\n",
    "\n"
   ]
  },
  {
   "cell_type": "code",
   "execution_count": 31,
   "metadata": {},
   "outputs": [
    {
     "name": "stdout",
     "output_type": "stream",
     "text": [
      "Input number of rows: Hello world Practice makes perfect \n",
      "['HELLO WORLD PRACTICE MAKES PERFECT ']\n"
     ]
    }
   ],
   "source": [
    "list1 = input(\"Input number of rows: \")\n",
    "input_list1 = list1.split(\",\")\n",
    "result = list(map(lambda x:x.upper(),input_list1))\n",
    "print(result)"
   ]
  },
  {
   "cell_type": "markdown",
   "metadata": {},
   "source": [
    "# Question 10\n",
    "Level 2\n",
    "\n",
    "Question:\n",
    "Write a program that accepts a sequence of whitespace separated words as input and prints the words after removing all duplicate words and sorting them alphanumerically.\n",
    "Suppose the following input is supplied to the program:\n",
    "hello world and practice makes perfect and hello world again\n",
    "Then, the output should be:\n",
    "again and hello makes perfect practice world"
   ]
  },
  {
   "cell_type": "code",
   "execution_count": 42,
   "metadata": {},
   "outputs": [
    {
     "name": "stdout",
     "output_type": "stream",
     "text": [
      "Input number of rows: hello world and practice makes perfect and hello world again T\n",
      "['again', 'and', 'hello', 'makes', 'perfect', 'practice', 'T', 'world']\n"
     ]
    }
   ],
   "source": [
    "list1 = input(\"Input number of rows: \")\n",
    "input_list1 = list1.split(\" \")\n",
    "input_list2 = list(set(input_list1))\n",
    "result = sorted(input_list2, key=str.lower)\n",
    "print(result)"
   ]
  },
  {
   "cell_type": "markdown",
   "metadata": {},
   "source": [
    "# Question 11\n",
    "Level 2\n",
    "\n",
    "Question:\n",
    "Write a program which accepts a sequence of comma separated 4 digit binary numbers as its input and then check whether they are divisible by 5 or not. The numbers that are divisible by 5 are to be printed in a comma separated sequence.\n",
    "Example:\n",
    "0100,0011,1010,1001\n",
    "Then the output should be:\n",
    "1010\n",
    "Notes: Assume the data is input by console."
   ]
  },
  {
   "cell_type": "code",
   "execution_count": 72,
   "metadata": {},
   "outputs": [
    {
     "name": "stdout",
     "output_type": "stream",
     "text": [
      "Input a binary number: 0100,0011,1010,1001\n",
      "1010\n"
     ]
    }
   ],
   "source": [
    "get_numbers = input(\"Input a binary number: \")\n",
    "number_list = get_numbers.split(\",\")\n",
    "\n",
    "result_list = []\n",
    "\n",
    "for b_num in number_list:\n",
    "    \n",
    "    value = 0\n",
    "    b_num_list=list(b_num)\n",
    "    for i in range(len(b_num)):\n",
    "        digit = b_num_list.pop()\n",
    "        if digit == '1':\n",
    "            value = value + pow (2, i)\n",
    "    if value % 5 == 0 :\n",
    "        \n",
    "        result_list.append(b_num)\n",
    "        \n",
    "print(','.join(result_list))"
   ]
  },
  {
   "cell_type": "markdown",
   "metadata": {},
   "source": [
    "# Question 12\n",
    "Level 2\n",
    "\n",
    "Question:\n",
    "Write a program, which will find all such numbers between 1000 and 3000 (both included) such that each digit of the number is an even number.\n",
    "The numbers obtained should be printed in a comma-separated sequence on a single line."
   ]
  },
  {
   "cell_type": "code",
   "execution_count": 28,
   "metadata": {},
   "outputs": [
    {
     "name": "stdout",
     "output_type": "stream",
     "text": [
      "2000,2002,2004,2006,2008,2020,2022,2024,2026,2028,2040,2042,2044,2046,2048,2060,2062,2064,2066,2068,2080,2082,2084,2086,2088,2200,2202,2204,2206,2208,2220,2222,2224,2226,2228,2240,2242,2244,2246,2248,2260,2262,2264,2266,2268,2280,2282,2284,2286,2288,2400,2402,2404,2406,2408,2420,2422,2424,2426,2428,2440,2442,2444,2446,2448,2460,2462,2464,2466,2468,2480,2482,2484,2486,2488,2600,2602,2604,2606,2608,2620,2622,2624,2626,2628,2640,2642,2644,2646,2648,2660,2662,2664,2666,2668,2680,2682,2684,2686,2688,2800,2802,2804,2806,2808,2820,2822,2824,2826,2828,2840,2842,2844,2846,2848,2860,2862,2864,2866,2868,2880,2882,2884,2886,2888\n"
     ]
    }
   ],
   "source": [
    "values = []\n",
    "for num in range(1000,3000):\n",
    "    s = str(num)\n",
    "    if (int(s[0]) % 2 == 0) & (int(s[1]) % 2 == 0)  &  (int(s[2]) % 2 == 0) & (int(s[3]) % 2 == 0) :\n",
    "        values.append(s)\n",
    "        \n",
    "print(','.join(values))"
   ]
  },
  {
   "cell_type": "markdown",
   "metadata": {},
   "source": [
    "## Question 13\n",
    "Level 2\n",
    "\n",
    "Question:\n",
    "Write a program that accepts a sentence and calculate the number of letters and digits.\n",
    "Suppose the following input is supplied to the program:\n",
    "hello world! 123\n",
    "Then, the output should be:\n",
    "LETTERS 10\n",
    "DIGITS 3"
   ]
  },
  {
   "cell_type": "code",
   "execution_count": 56,
   "metadata": {},
   "outputs": [
    {
     "name": "stdout",
     "output_type": "stream",
     "text": [
      "Input: hello world! 123\n"
     ]
    }
   ],
   "source": [
    "get_values = input(\"Input: \")"
   ]
  },
  {
   "cell_type": "code",
   "execution_count": 57,
   "metadata": {},
   "outputs": [
    {
     "data": {
      "text/plain": [
       "'hello world! 123'"
      ]
     },
     "execution_count": 57,
     "metadata": {},
     "output_type": "execute_result"
    }
   ],
   "source": [
    "get_values\n"
   ]
  },
  {
   "cell_type": "code",
   "execution_count": 103,
   "metadata": {},
   "outputs": [
    {
     "name": "stdout",
     "output_type": "stream",
     "text": [
      "Input: hello world! 123\n",
      "LETTERS10 DIGITS 3\n"
     ]
    }
   ],
   "source": [
    "get_values = input(\"Input: \")\n",
    "num_isalpha = 0\n",
    "num_isdigit = 0\n",
    "\n",
    "for i in range(len(get_values)):\n",
    "    if get_values[i].isdigit() == True :\n",
    "        num_isdigit += 1\n",
    "    elif get_values[i].isalpha() == True :\n",
    "        num_isalpha += 1\n",
    "        \n",
    "print('LETTERS' + str(num_isalpha) +' DIGITS '+ str(num_isdigit))"
   ]
  },
  {
   "cell_type": "markdown",
   "metadata": {},
   "source": [
    "## Question 14\n",
    "Level 2\n",
    "\n",
    "Question:\n",
    "Write a program that accepts a sentence and calculate the number of upper case letters and lower case letters.\n",
    "Suppose the following input is supplied to the program:\n",
    "Hello world!\n",
    "Then, the output should be:\n",
    "UPPER CASE 1\n",
    "LOWER CASE 9\n",
    "\n"
   ]
  },
  {
   "cell_type": "code",
   "execution_count": 90,
   "metadata": {},
   "outputs": [
    {
     "name": "stdout",
     "output_type": "stream",
     "text": [
      "Input: Hello world! \n",
      "True\n",
      "UPPER CASE1 LOWER CASE 9\n"
     ]
    }
   ],
   "source": [
    "get_values = input(\"Input: \")\n",
    "num_isupper = 0\n",
    "num_islower = 0\n",
    "\n",
    "for i in range(len(get_values)):\n",
    "    if get_values[i].isupper() == True :\n",
    "        num_isupper += 1\n",
    "        print(get_values[i].isupper() )\n",
    "    elif get_values[i].islower() == True :\n",
    "        num_islower += 1\n",
    "\n",
    "\n",
    "        \n",
    "print('UPPER CASE' + str(num_isupper) +' LOWER CASE '+ str(num_islower))"
   ]
  },
  {
   "cell_type": "markdown",
   "metadata": {},
   "source": [
    "## Question 15\n",
    "Level 2\n",
    "\n",
    "Question:\n",
    "Write a program that computes the value of a+aa+aaa+aaaa with a given digit as the value of a.\n",
    "Suppose the following input is supplied to the program:\n",
    "9\n",
    "Then, the output should be:\n",
    "11106"
   ]
  },
  {
   "cell_type": "code",
   "execution_count": 119,
   "metadata": {
    "scrolled": true
   },
   "outputs": [
    {
     "name": "stdout",
     "output_type": "stream",
     "text": [
      "Input: 9\n",
      "11106\n"
     ]
    }
   ],
   "source": [
    "a = int(input(\"Input: \"))\n",
    "n1 = int( \"%s\" % a )\n",
    "n2 = int( \"%s%s\" % (a,a) )\n",
    "n3 = int( \"%s%s%s\" % (a,a,a) )\n",
    "n4 = int( \"%s%s%s%s\" % (a,a,a,a) )\n",
    "print ( n1 + n2 + n3 + n4)"
   ]
  },
  {
   "cell_type": "code",
   "execution_count": 36,
   "metadata": {},
   "outputs": [
    {
     "name": "stdout",
     "output_type": "stream",
     "text": [
      "11106\n"
     ]
    }
   ],
   "source": [
    "a = 9\n",
    "\n",
    "def cal(a, digit):\n",
    "    result = 0\n",
    "    for i in range(digit+1):\n",
    "        if i == 0:\n",
    "            result += a\n",
    "        else:\n",
    "            result += 10**i * a\n",
    "    return result\n",
    "\n",
    "result = 0\n",
    "for i in range(4) : \n",
    "    result += cal(a, i) # 9, 99, 999, 9999\n",
    "\n",
    "print(result)"
   ]
  },
  {
   "cell_type": "markdown",
   "metadata": {},
   "source": [
    "## Question 16\n",
    "Level 2\n",
    "\n",
    "Question:\n",
    "Use a list comprehension to square each odd number in a list. The list is input by a sequence of comma-separated numbers.\n",
    "Suppose the following input is supplied to the program:\n",
    "1,2,3,4,5,6,7,8,9\n",
    "Then, the output should be:\n",
    "1,3,5,7,9"
   ]
  },
  {
   "cell_type": "code",
   "execution_count": 120,
   "metadata": {},
   "outputs": [
    {
     "name": "stdout",
     "output_type": "stream",
     "text": [
      "Input: 1,2,3,4,5,6,7,8,9\n"
     ]
    }
   ],
   "source": [
    "get_numbers = input(\"Input: \")\n",
    "number_list = get_numbers.split(\",\")"
   ]
  },
  {
   "cell_type": "code",
   "execution_count": 121,
   "metadata": {},
   "outputs": [
    {
     "data": {
      "text/plain": [
       "['1', '2', '3', '4', '5', '6', '7', '8', '9']"
      ]
     },
     "execution_count": 121,
     "metadata": {},
     "output_type": "execute_result"
    }
   ],
   "source": [
    "number_list"
   ]
  },
  {
   "cell_type": "code",
   "execution_count": 131,
   "metadata": {},
   "outputs": [],
   "source": [
    "odd_list = []\n",
    "for i in number_list:\n",
    "    if int(i) % 2 != 0:\n",
    "        odd_list.append(i)"
   ]
  },
  {
   "cell_type": "code",
   "execution_count": 132,
   "metadata": {},
   "outputs": [
    {
     "data": {
      "text/plain": [
       "['1', '3', '5', '7', '9']"
      ]
     },
     "execution_count": 132,
     "metadata": {},
     "output_type": "execute_result"
    }
   ],
   "source": [
    "odd_list"
   ]
  },
  {
   "cell_type": "code",
   "execution_count": 134,
   "metadata": {},
   "outputs": [],
   "source": [
    "odd_list = [i for i in get_numbers.split(',') if (int(i) % 2 != 0)]"
   ]
  },
  {
   "cell_type": "code",
   "execution_count": 135,
   "metadata": {},
   "outputs": [
    {
     "data": {
      "text/plain": [
       "['1', '3', '5', '7', '9']"
      ]
     },
     "execution_count": 135,
     "metadata": {},
     "output_type": "execute_result"
    }
   ],
   "source": [
    "odd_list"
   ]
  },
  {
   "cell_type": "markdown",
   "metadata": {},
   "source": [
    "## Question 17\n",
    "Level 2\n",
    "\n",
    "Question:\n",
    "Write a program that computes the net amount of a bank account based a transaction log from console input. The transaction log format is shown as following:\n",
    "D 100\n",
    "W 200\n",
    "\n",
    "D means deposit while W means withdrawal.\n",
    "Suppose the following input is supplied to the program:\n",
    "D 300\n",
    "D 300\n",
    "W 200\n",
    "D 100\n",
    "Then, the output should be:\n",
    "500"
   ]
  },
  {
   "cell_type": "code",
   "execution_count": 8,
   "metadata": {},
   "outputs": [
    {
     "name": "stdout",
     "output_type": "stream",
     "text": [
      "D 300 D 300 W 200 D 100\n"
     ]
    }
   ],
   "source": [
    "get_input = input()"
   ]
  },
  {
   "cell_type": "code",
   "execution_count": 9,
   "metadata": {},
   "outputs": [],
   "source": [
    "splited_input = get_input.split(\" \")"
   ]
  },
  {
   "cell_type": "code",
   "execution_count": 10,
   "metadata": {},
   "outputs": [
    {
     "data": {
      "text/plain": [
       "['D', '300', 'D', '300', 'W', '200', 'D', '100']"
      ]
     },
     "execution_count": 10,
     "metadata": {},
     "output_type": "execute_result"
    }
   ],
   "source": [
    "splited_input"
   ]
  },
  {
   "cell_type": "code",
   "execution_count": 14,
   "metadata": {},
   "outputs": [
    {
     "name": "stdout",
     "output_type": "stream",
     "text": [
      "500\n"
     ]
    }
   ],
   "source": [
    "balance = 0\n",
    "gb = None\n",
    "for i in splited_input:\n",
    "    if i == 'D' :\n",
    "        gb = 'D'\n",
    "    elif i == 'W':\n",
    "        gb = 'W'\n",
    "    else :\n",
    "        if gb == 'D':\n",
    "            balance += int(i) \n",
    "        elif gb == 'W':\n",
    "            balance -= int(i) \n",
    "print(balance)"
   ]
  },
  {
   "cell_type": "markdown",
   "metadata": {},
   "source": [
    "## Question 18\n",
    "Level 3\n",
    "\n",
    "Question:\n",
    "A website requires the users to input username and password to register. Write a program to check the validity of password input by users.\n",
    "Following are the criteria for checking the password:\n",
    "\n",
    "At least 1 letter between [a-z]\n",
    "At least 1 number between [0-9]\n",
    "At least 1 letter between [A-Z]\n",
    "At least 1 character from [$#@]\n",
    "Minimum length of transaction password: 6\n",
    "Maximum length of transaction password: 12\n",
    "Your program should accept a sequence of comma separated passwords and will check them according to the above criteria. Passwords that match the criteria are to be printed, each separated by a comma.\n",
    "Example\n",
    "If the following passwords are given as input to the program:\n",
    "ABd1234@1,a F1#,2w3E*,2We3345\n",
    "Then, the output of the program should be:\n",
    "ABd1234@1\n"
   ]
  },
  {
   "cell_type": "code",
   "execution_count": 248,
   "metadata": {
    "scrolled": true
   },
   "outputs": [
    {
     "ename": "IndentationError",
     "evalue": "unexpected indent (<ipython-input-248-377a03c06093>, line 4)",
     "output_type": "error",
     "traceback": [
      "\u001b[0;36m  File \u001b[0;32m\"<ipython-input-248-377a03c06093>\"\u001b[0;36m, line \u001b[0;32m4\u001b[0m\n\u001b[0;31m    s\u001b[0m\n\u001b[0m    ^\u001b[0m\n\u001b[0;31mIndentationError\u001b[0m\u001b[0;31m:\u001b[0m unexpected indent\n"
     ]
    }
   ],
   "source": [
    "get_password = input()\n",
    "get_passwords = get_password.split(\",\")\n",
    "\n",
    "\n",
    "result = []\n",
    "for password in get_passwords: \n",
    "    if len(password) < 6 or len(password) >12 :\n",
    "        pass\n",
    "    else :\n",
    "        num_isupper = 0\n",
    "        num_islower = 0\n",
    "        num_isdigit = 0\n",
    "        num_isspecial = 0\n",
    "        for i in range (len(password)) :\n",
    "            if password[i].isdigit():\n",
    "                num_isdigit += 1\n",
    "            elif password[i].isupper():\n",
    "                num_isupper += 1\n",
    "            elif password[i].islower():\n",
    "                num_islower += 1\n",
    "            elif password[i] in ['$','#','@']:\n",
    "                num_isspecial += 1\n",
    "        if (num_isspecial  > 0) & ( num_isupper > 0) & ( num_isdigit > 0 ) & (num_islower > 0) :\n",
    "            result.append(password)\n",
    "\n",
    "            \n",
    "result\n"
   ]
  },
  {
   "cell_type": "markdown",
   "metadata": {},
   "source": [
    "## Question 19\n",
    "Level 3\n",
    "\n",
    "Question:\n",
    "You are required to write a program to sort the (name, age, height) tuples by ascending order where name is string, age and height are numbers. The tuples are input by console. The sort criteria is:\n",
    "1: Sort based on name;\n",
    "2: Then sort based on age;\n",
    "3: Then sort by score.\n",
    "The priority is that name > age > score.\n",
    "If the following tuples are given as input to the program:\n",
    "Tom,19,80\n",
    "John,20,90\n",
    "Jony,17,91\n",
    "Jony,17,93\n",
    "Json,21,85\n",
    "Then, the output of the program should be:\n",
    "[('John', '20', '90'), ('Jony', '17', '91'), ('Jony', '17', '93'), ('Json', '21', '85'), ('Tom', '19', '80')]"
   ]
  },
  {
   "cell_type": "code",
   "execution_count": 254,
   "metadata": {},
   "outputs": [
    {
     "name": "stdout",
     "output_type": "stream",
     "text": [
      "Tom,19,80 John,20,90 Jony,17,91 Jony,17,93 Json,21,85\n"
     ]
    }
   ],
   "source": [
    "get_input = input()"
   ]
  },
  {
   "cell_type": "code",
   "execution_count": 255,
   "metadata": {
    "scrolled": true
   },
   "outputs": [],
   "source": [
    "# 함수형 스타일: map, filter, list comprehension 등의 문법을 사용한 코딩 스타일\n",
    "tuples_input = [tuple(map(str, sub.split(','))) for sub in get_input.split(' ')] \n",
    "\n",
    "# 절차형 스타일 -> C, C++, Java\n",
    "# tuples_input = []\n",
    "# for sub in get_input.split(' '):\n",
    "#     tuple_result = ()\n",
    "#     for subsub in sub.split(','):\n",
    "#         tuple_result.append(str(subsub))\n",
    "#     tuples_input.append(tuple_result)"
   ]
  },
  {
   "cell_type": "code",
   "execution_count": 259,
   "metadata": {},
   "outputs": [
    {
     "name": "stdout",
     "output_type": "stream",
     "text": [
      "key John2090\n",
      "key Jony1791\n",
      "key Jony1793\n",
      "key Json2185\n",
      "key Tom1980\n"
     ]
    },
    {
     "data": {
      "text/plain": [
       "[('John', '20', '90'),\n",
       " ('Jony', '17', '91'),\n",
       " ('Jony', '17', '93'),\n",
       " ('Json', '21', '85'),\n",
       " ('Tom', '19', '80')]"
      ]
     },
     "execution_count": 259,
     "metadata": {},
     "output_type": "execute_result"
    }
   ],
   "source": [
    "#이걸로 해볼라고 했는데 못하겠음\n",
    "def sort_key(tuple_input):\n",
    "    print(\"key\", tuple_input[0] + tuple_input[1] + tuple_input[2])\n",
    "    return tuple_input[0] + tuple_input[1] + tuple_input[2]\n",
    "    \n",
    "tuples_input.sort(key = sort_key)\n",
    "tuples_input"
   ]
  },
  {
   "cell_type": "code",
   "execution_count": 266,
   "metadata": {},
   "outputs": [],
   "source": [
    "from operator import itemgetter\n",
    "\n",
    "tuples_input.sort(key=itemgetter(0, 1, 2))"
   ]
  },
  {
   "cell_type": "code",
   "execution_count": 267,
   "metadata": {},
   "outputs": [
    {
     "data": {
      "text/plain": [
       "[('John', '20', '90'),\n",
       " ('Jony', '17', '91'),\n",
       " ('Jony', '17', '93'),\n",
       " ('Json', '21', '85'),\n",
       " ('Tom', '19', '80')]"
      ]
     },
     "execution_count": 267,
     "metadata": {},
     "output_type": "execute_result"
    }
   ],
   "source": [
    "tuples_input"
   ]
  },
  {
   "cell_type": "markdown",
   "metadata": {},
   "source": [
    "## Question 20\n",
    "Level 3\n",
    "\n",
    "Question:\n",
    "Define a class with a generator which can iterate the numbers, which are divisible by 7, between a given range 0 and n.\n",
    "\n"
   ]
  },
  {
   "cell_type": "code",
   "execution_count": 250,
   "metadata": {},
   "outputs": [],
   "source": [
    "## 잘 모르겠어영 ㅠ_ㅠ "
   ]
  },
  {
   "cell_type": "code",
   "execution_count": 251,
   "metadata": {},
   "outputs": [
    {
     "ename": "IndentationError",
     "evalue": "expected an indented block (<ipython-input-251-46f54553aa2d>, line 10)",
     "output_type": "error",
     "traceback": [
      "\u001b[0;36m  File \u001b[0;32m\"<ipython-input-251-46f54553aa2d>\"\u001b[0;36m, line \u001b[0;32m10\u001b[0m\n\u001b[0;31m    for num in iterator(100).divBySeven():\u001b[0m\n\u001b[0m                                          ^\u001b[0m\n\u001b[0;31mIndentationError\u001b[0m\u001b[0;31m:\u001b[0m expected an indented block\n"
     ]
    }
   ],
   "source": [
    "class iterator (object):\n",
    "    def __init__(self, n):\n",
    "        self.n=n\n",
    "    def divBySeven(self):\n",
    "        for i in range (0, self.n):\n",
    "            if i % 7 == 0 :\n",
    "                \n",
    "\n",
    "                \n",
    "for num in iterator(100).divBySeven():\n",
    "    print(num)\n"
   ]
  },
  {
   "cell_type": "code",
   "execution_count": null,
   "metadata": {},
   "outputs": [],
   "source": [
    "def putNumbers(n):\n",
    "    i = 0\n",
    "    while i<n:\n",
    "        j=i\n",
    "        i=i+1\n",
    "        if j%7==0:\n",
    "            yield j\n",
    "\n",
    "putNumbers(100)"
   ]
  },
  {
   "cell_type": "markdown",
   "metadata": {},
   "source": [
    "## Question 21\n",
    "Level 3\n",
    "\n",
    "Question ~₩\n",
    "\n",
    "\n",
    "A robot moves in a plane starting from the original point (0,0). The robot can move toward UP, DOWN, LEFT and RIGHT with a given steps. The trace of robot movement is shown as the following:\n",
    "UP 5\n",
    "DOWN 3\n",
    "LEFT 3\n",
    "RIGHT 2\n",
    "¡­\n",
    "The numbers after the direction are steps. Please write a program to compute the distance from current position after a sequence of movement and original point. If the distance is a float, then just print the nearest integer.\n",
    "Example:\n",
    "If the following tuples are given as input to the program:\n",
    "UP 5\n",
    "DOWN 3\n",
    "LEFT 3\n",
    "RIGHT 2\n",
    "Then, the output of the program should be:\n",
    "2"
   ]
  },
  {
   "cell_type": "code",
   "execution_count": null,
   "metadata": {},
   "outputs": [],
   "source": [
    "get_input = input()"
   ]
  },
  {
   "cell_type": "code",
   "execution_count": null,
   "metadata": {},
   "outputs": [],
   "source": [
    "get_input_splited=get_input.split(' ')"
   ]
  },
  {
   "cell_type": "code",
   "execution_count": null,
   "metadata": {},
   "outputs": [],
   "source": [
    "get_input_splited"
   ]
  },
  {
   "cell_type": "code",
   "execution_count": null,
   "metadata": {},
   "outputs": [],
   "source": [
    "import math\n",
    "\n",
    "x, y = 0, 0\n",
    "\n",
    "gb = None\n",
    "\n",
    "for i in get_input_splited:\n",
    "    if i == 'UP' :\n",
    "        gb = 'U'\n",
    "    elif i == 'DOWN':\n",
    "        gb = 'D'\n",
    "    elif i == 'LEFT':\n",
    "        gb = 'L'\n",
    "    elif i == 'RIGHT':\n",
    "        gb = 'R'\n",
    "    else :\n",
    "        if gb == 'U':\n",
    "            y += int(i) \n",
    "        elif gb == 'D':\n",
    "            y -= int(i) \n",
    "        elif gb == 'L':\n",
    "            x -= int(i) \n",
    "        elif gb == 'R':\n",
    "            x += int(i) \n",
    "print(x)\n",
    "print(y)\n",
    "\n",
    "c = math.sqrt(x**2 + y**2)"
   ]
  },
  {
   "cell_type": "code",
   "execution_count": null,
   "metadata": {},
   "outputs": [],
   "source": [
    "int(c)"
   ]
  },
  {
   "cell_type": "markdown",
   "metadata": {},
   "source": [
    "# Question 22\n",
    "Level 3\n",
    "\n",
    "Question:\n",
    "Write a program to compute the frequency of the words from the input. The output should output after sorting the key alphanumerically.\n",
    "Suppose the following input is supplied to the program:\n",
    "New to Python or choosing between Python 2 and Python 3? Read Python 2 or Python 3.\n",
    "Then, the output should be:\n",
    "\n",
    "2:2\n",
    "3.:1\n",
    "3?:1\n",
    "New:1\n",
    "Python:5\n",
    "Read:1\n",
    "and:1\n",
    "between:1\n",
    "choosing:1\n",
    "or:2\n",
    "\n",
    "to:1"
   ]
  },
  {
   "cell_type": "code",
   "execution_count": 268,
   "metadata": {},
   "outputs": [
    {
     "name": "stdout",
     "output_type": "stream",
     "text": [
      "New to Python or choosing between Python 2 and Python 3? Read Python 2 or Python 3\n"
     ]
    }
   ],
   "source": [
    "get_input = input()"
   ]
  },
  {
   "cell_type": "code",
   "execution_count": 269,
   "metadata": {},
   "outputs": [],
   "source": [
    "get_splited_input = get_input.split(' ')"
   ]
  },
  {
   "cell_type": "code",
   "execution_count": 271,
   "metadata": {},
   "outputs": [
    {
     "data": {
      "text/plain": [
       "['2',\n",
       " '2',\n",
       " '3',\n",
       " '3?',\n",
       " 'New',\n",
       " 'Python',\n",
       " 'Python',\n",
       " 'Python',\n",
       " 'Python',\n",
       " 'Python',\n",
       " 'Read',\n",
       " 'and',\n",
       " 'between',\n",
       " 'choosing',\n",
       " 'or',\n",
       " 'or',\n",
       " 'to']"
      ]
     },
     "execution_count": 271,
     "metadata": {},
     "output_type": "execute_result"
    }
   ],
   "source": [
    "get_splited_input.sort()"
   ]
  },
  {
   "cell_type": "code",
   "execution_count": 273,
   "metadata": {},
   "outputs": [
    {
     "data": {
      "text/plain": [
       "{'2': 2,\n",
       " '3': 1,\n",
       " '3?': 1,\n",
       " 'New': 1,\n",
       " 'Python': 5,\n",
       " 'Read': 1,\n",
       " 'and': 1,\n",
       " 'between': 1,\n",
       " 'choosing': 1,\n",
       " 'or': 2,\n",
       " 'to': 1}"
      ]
     },
     "execution_count": 273,
     "metadata": {},
     "output_type": "execute_result"
    }
   ],
   "source": [
    "freq_dict = {}\n",
    "\n",
    "for i in get_splited_input:\n",
    "    if i not in freq_dict:\n",
    "        freq_dict[i] = 1\n",
    "    else:\n",
    "        freq_dict[i] += 1\n",
    "\n",
    "freq_dict"
   ]
  },
  {
   "cell_type": "code",
   "execution_count": null,
   "metadata": {},
   "outputs": [],
   "source": [
    "import operator\n",
    "\n",
    "text_line = input(\"Type in: \")\n",
    "\n",
    "freq_dict = {}\n",
    "\n",
    "for i in text_line.split(' '):\n",
    "    if i.isalpha():\n",
    "        if i not in freq_dict:\n",
    "            freq_dict[i] = 1\n",
    "        elif i in freq_dict:\n",
    "            freq_dict[i] = freq_dict[i] + 1\n",
    "    else:\n",
    "        pass\n"
   ]
  },
  {
   "cell_type": "code",
   "execution_count": null,
   "metadata": {},
   "outputs": [],
   "source": [
    "freq_dict"
   ]
  },
  {
   "cell_type": "code",
   "execution_count": null,
   "metadata": {},
   "outputs": [],
   "source": [
    "freq_dict['Python']"
   ]
  },
  {
   "cell_type": "markdown",
   "metadata": {},
   "source": [
    "# Question 23\n",
    "level 1\n",
    "\n",
    "Question:\n",
    "Write a method which can calculate square value of number"
   ]
  },
  {
   "cell_type": "code",
   "execution_count": null,
   "metadata": {},
   "outputs": [],
   "source": [
    "import math "
   ]
  },
  {
   "cell_type": "code",
   "execution_count": null,
   "metadata": {},
   "outputs": [],
   "source": [
    "number = int (input (\"Enter an integer number: \"))"
   ]
  },
  {
   "cell_type": "code",
   "execution_count": null,
   "metadata": {},
   "outputs": [],
   "source": [
    "square = int(math.pow (number, 2))"
   ]
  },
  {
   "cell_type": "code",
   "execution_count": null,
   "metadata": {},
   "outputs": [],
   "source": [
    "print('Square of {0} is {1}'.format (number, square))"
   ]
  },
  {
   "cell_type": "markdown",
   "metadata": {},
   "source": [
    "# Question 24\n",
    "Level 1\n",
    "\n",
    "Question:\n",
    "Python has many built-in functions, and if you do not know how to use it, you can read document online or find some books. But Python has a built-in document function for every built-in functions.\n",
    "Please write a program to print some Python built-in functions documents, such as abs(), int(), raw_input()\n",
    "And add document for your own function"
   ]
  },
  {
   "cell_type": "code",
   "execution_count": null,
   "metadata": {},
   "outputs": [],
   "source": [
    "print(abs.__doc__)\n",
    "\n",
    "print(int.__doc__)"
   ]
  },
  {
   "cell_type": "code",
   "execution_count": null,
   "metadata": {},
   "outputs": [],
   "source": [
    "print(input.__doc__)"
   ]
  },
  {
   "cell_type": "markdown",
   "metadata": {},
   "source": [
    "# Question 25\n",
    "Level 1\n",
    "\n",
    "Question:\n",
    "Define a class, which have a class parameter and have a same instance parameter."
   ]
  },
  {
   "cell_type": "code",
   "execution_count": 303,
   "metadata": {},
   "outputs": [],
   "source": [
    "class testclass():\n",
    "    result = 0\n",
    "    \n",
    "    def __init__(self):\n",
    "        self.result = 100"
   ]
  },
  {
   "cell_type": "code",
   "execution_count": 304,
   "metadata": {},
   "outputs": [],
   "source": [
    "a = testclass()"
   ]
  },
  {
   "cell_type": "code",
   "execution_count": 305,
   "metadata": {},
   "outputs": [
    {
     "data": {
      "text/plain": [
       "100"
      ]
     },
     "execution_count": 305,
     "metadata": {},
     "output_type": "execute_result"
    }
   ],
   "source": [
    "a.result"
   ]
  },
  {
   "cell_type": "code",
   "execution_count": 306,
   "metadata": {},
   "outputs": [
    {
     "data": {
      "text/plain": [
       "0"
      ]
     },
     "execution_count": 306,
     "metadata": {},
     "output_type": "execute_result"
    }
   ],
   "source": [
    "testclass.result"
   ]
  },
  {
   "cell_type": "code",
   "execution_count": 149,
   "metadata": {},
   "outputs": [
    {
     "name": "stdout",
     "output_type": "stream",
     "text": [
      "0\n",
      "3\n",
      "0\n",
      "0\n",
      "0\n",
      "0\n",
      "0\n",
      "200\n",
      "200\n",
      "200\n"
     ]
    }
   ],
   "source": [
    "# 변수와 함수\n",
    "result = 0\n",
    "\n",
    "def add():    \n",
    "    pass\n",
    "\n",
    "def subtract():\n",
    "    pass\n",
    "\n",
    "class Calculator:\n",
    "    # 클래스 변수를 정의\n",
    "    result = 100\n",
    "    max_result = 0\n",
    "\n",
    "    def __init__(self):\n",
    "        # 인스턴스 변수를 정의\n",
    "        self.result = 0\n",
    "\n",
    "    # 인스턴스 메소드\n",
    "    def add(self, arg):\n",
    "        self.result += arg\n",
    "    def subtract(self, arg):\n",
    "        self.result -= arg\n",
    "\n",
    "# 인스턴스 개념\n",
    "personal_account = Calculator()\n",
    "print(personal_account.result)\n",
    "personal_account.add(3) \n",
    "print(personal_account.result)\n",
    "personal_account.subtract(3)\n",
    "print(personal_account.result)\n",
    "\n",
    "\n",
    "your_account = Calculator()\n",
    "print(your_account.result)\n",
    "\n",
    "print(Calculator.max_result)\n",
    "print(personal_account.max_result)\n",
    "print(your_account.max_result)\n",
    "\n",
    "Calculator.max_result = 200\n",
    "print(Calculator.max_result)\n",
    "print(personal_account.max_result)\n",
    "print(your_account.max_result)\n"
   ]
  },
  {
   "cell_type": "markdown",
   "metadata": {},
   "source": [
    "# Question 26  \n",
    "Define a function which can compute the sum of two numbers."
   ]
  },
  {
   "cell_type": "code",
   "execution_count": 307,
   "metadata": {},
   "outputs": [],
   "source": [
    "def sum_of_two_numbers (a, b):\n",
    "    return a + b "
   ]
  },
  {
   "cell_type": "code",
   "execution_count": 308,
   "metadata": {},
   "outputs": [
    {
     "data": {
      "text/plain": [
       "3"
      ]
     },
     "execution_count": 308,
     "metadata": {},
     "output_type": "execute_result"
    }
   ],
   "source": [
    "sum_of_two_numbers(1,2)"
   ]
  },
  {
   "cell_type": "markdown",
   "metadata": {},
   "source": [
    "# Question 27\n",
    "Define a function that can convert a integer into a string and print it in console.\n",
    "\n"
   ]
  },
  {
   "cell_type": "code",
   "execution_count": 155,
   "metadata": {},
   "outputs": [],
   "source": [
    "def integer_to_str (a):\n",
    "    result = str(a)\n",
    "    print(result)\n",
    "    return result"
   ]
  },
  {
   "cell_type": "code",
   "execution_count": 156,
   "metadata": {},
   "outputs": [
    {
     "name": "stdout",
     "output_type": "stream",
     "text": [
      "3\n",
      "3\n"
     ]
    }
   ],
   "source": [
    "a = integer_to_str(3)\n",
    "print(a)"
   ]
  },
  {
   "cell_type": "markdown",
   "metadata": {},
   "source": [
    "# Question 28\n",
    "\n",
    "Define a function that can convert a integer into a string and print it in console."
   ]
  },
  {
   "cell_type": "code",
   "execution_count": 317,
   "metadata": {},
   "outputs": [],
   "source": [
    "def integer_to_str (a):\n",
    "    return print(str(a))"
   ]
  },
  {
   "cell_type": "markdown",
   "metadata": {},
   "source": [
    "# Question 29\n",
    "\n",
    "Define a function that can receive two integral numbers in string form and compute their sum and then print it in console.\n",
    "\n"
   ]
  },
  {
   "cell_type": "code",
   "execution_count": 322,
   "metadata": {},
   "outputs": [],
   "source": [
    "def integer_to_str_sum (a, b):\n",
    "    c = a + b\n",
    "    return print(str(c))"
   ]
  },
  {
   "cell_type": "code",
   "execution_count": 323,
   "metadata": {},
   "outputs": [
    {
     "name": "stdout",
     "output_type": "stream",
     "text": [
      "3\n"
     ]
    }
   ],
   "source": [
    "integer_to_str_sum(1, 2)"
   ]
  },
  {
   "cell_type": "markdown",
   "metadata": {},
   "source": [
    "# Question 30\n",
    "\n",
    "Define a function that can accept two strings as input and concatenate them and then print it in console."
   ]
  },
  {
   "cell_type": "code",
   "execution_count": 157,
   "metadata": {},
   "outputs": [],
   "source": [
    "def concatenate_string (a, b):\n",
    "    str_list = [a, b]\n",
    "    return ''.join(str_list)\n",
    "#     return a + b\n",
    "\n"
   ]
  },
  {
   "cell_type": "code",
   "execution_count": 332,
   "metadata": {},
   "outputs": [
    {
     "data": {
      "text/plain": [
       "'helloworld'"
      ]
     },
     "execution_count": 332,
     "metadata": {},
     "output_type": "execute_result"
    }
   ],
   "source": [
    "concatenate_string('hello', 'world')"
   ]
  },
  {
   "cell_type": "markdown",
   "metadata": {},
   "source": [
    "# Question 31\n",
    "\n",
    "Define a function that can accept two strings as input and print the string with maximum length in console. If two strings have the same length, then the function should print al l strings line by line.\n",
    "\n"
   ]
  },
  {
   "cell_type": "code",
   "execution_count": 345,
   "metadata": {},
   "outputs": [],
   "source": [
    "def str_with_max_length (a, b):\n",
    "    dict_1 = {}\n",
    "    dict_1[a] = len(a)\n",
    "    dict_1[b] = len(b)\n",
    "    search_value = max(len(a), len(b))\n",
    "    for a, b in dict_1.items():   \n",
    "        if b == search_value:\n",
    "            return_value = a\n",
    "    return a\n",
    "\n",
    "def str_with_max_length (a, b):\n",
    "    search_value = max(len(a), len(b))\n",
    "    if b == search_value:\n",
    "        return_value = a\n",
    "    return a"
   ]
  },
  {
   "cell_type": "code",
   "execution_count": 352,
   "metadata": {
    "scrolled": true
   },
   "outputs": [
    {
     "name": "stdout",
     "output_type": "stream",
     "text": [
      "three\n"
     ]
    }
   ],
   "source": [
    "def printValue(s1,s2):\n",
    "    len1 = len(s1)\n",
    "    len2 = len(s2)\n",
    "    if len1>len2:\n",
    "        print (s1)\n",
    "    elif len2>len1:\n",
    "        print (s2)\n",
    "    else:\n",
    "        print (s1)\n",
    "        print (s2)\n",
    "\n",
    "printValue(\"one\",\"three\")\n",
    "\n",
    "# 단 두개의 input 만 가능"
   ]
  },
  {
   "cell_type": "markdown",
   "metadata": {},
   "source": [
    "# Question 32\n",
    "Define a function that can accept an integer number as input and print the \"It is an even number\" if the number is even, otherwise print \"It is an odd number\"."
   ]
  },
  {
   "cell_type": "code",
   "execution_count": 1,
   "metadata": {},
   "outputs": [],
   "source": [
    "def even_num_identifier (num):\n",
    "    if num % 2 == 0 :\n",
    "        print(\"It is an even number\")\n",
    "    else :\n",
    "        print(\"It is an odd number\")"
   ]
  },
  {
   "cell_type": "code",
   "execution_count": 2,
   "metadata": {},
   "outputs": [
    {
     "name": "stdout",
     "output_type": "stream",
     "text": [
      "It is an even number\n"
     ]
    }
   ],
   "source": [
    "even_num_identifier (2)"
   ]
  },
  {
   "cell_type": "markdown",
   "metadata": {},
   "source": [
    "# Question 33\n",
    "\n",
    "Define a function which can print a dictionary where the keys are numbers between 1 and 3 (both included) and the values are square of keys."
   ]
  },
  {
   "cell_type": "code",
   "execution_count": 10,
   "metadata": {},
   "outputs": [],
   "source": [
    "def a ():\n",
    "    b = {}\n",
    "    for i in range(1,4):\n",
    "        b[i] = i**2 \n",
    "    print(b)"
   ]
  },
  {
   "cell_type": "code",
   "execution_count": 11,
   "metadata": {},
   "outputs": [
    {
     "name": "stdout",
     "output_type": "stream",
     "text": [
      "{1: 1, 2: 4, 3: 9}\n"
     ]
    }
   ],
   "source": [
    "a()"
   ]
  },
  {
   "cell_type": "markdown",
   "metadata": {},
   "source": [
    "## Question 34\n",
    "\n",
    "Define a function which can print a dictionary where the keys are numbers between 1 and 20 (both included) and the values are square of keys."
   ]
  },
  {
   "cell_type": "code",
   "execution_count": 13,
   "metadata": {},
   "outputs": [],
   "source": [
    "def a ():\n",
    "    b = {}\n",
    "    for i in range (1,21):\n",
    "        b[i] = i**2\n",
    "    print(b)\n",
    "    "
   ]
  },
  {
   "cell_type": "code",
   "execution_count": 14,
   "metadata": {},
   "outputs": [
    {
     "name": "stdout",
     "output_type": "stream",
     "text": [
      "{1: 1, 2: 4, 3: 9, 4: 16, 5: 25, 6: 36, 7: 49, 8: 64, 9: 81, 10: 100, 11: 121, 12: 144, 13: 169, 14: 196, 15: 225, 16: 256, 17: 289, 18: 324, 19: 361, 20: 400}\n"
     ]
    }
   ],
   "source": [
    "a()"
   ]
  },
  {
   "cell_type": "markdown",
   "metadata": {},
   "source": [
    "## Question 35\n",
    "\n",
    "Define a function which can generate a dictionary where the keys are numbers between 1 and 20 (both included) and the values are square of keys. The function should just print the values only."
   ]
  },
  {
   "cell_type": "code",
   "execution_count": 21,
   "metadata": {},
   "outputs": [],
   "source": [
    "def a ():\n",
    "    b = {}\n",
    "    for i in range (1,21):\n",
    "        b[i] = i**2\n",
    "    values = list(b.values())\n",
    "    print(values)\n",
    "    "
   ]
  },
  {
   "cell_type": "code",
   "execution_count": 22,
   "metadata": {},
   "outputs": [
    {
     "name": "stdout",
     "output_type": "stream",
     "text": [
      "[1, 4, 9, 16, 25, 36, 49, 64, 81, 100, 121, 144, 169, 196, 225, 256, 289, 324, 361, 400]\n"
     ]
    }
   ],
   "source": [
    "a()"
   ]
  },
  {
   "cell_type": "markdown",
   "metadata": {},
   "source": [
    "## Question 36\n",
    "\n",
    "Define a function which can generate a dictionary where the keys are numbers between 1 and 20 (both included) and the values are square of keys. The function should just print the keys only."
   ]
  },
  {
   "cell_type": "code",
   "execution_count": 23,
   "metadata": {},
   "outputs": [
    {
     "name": "stdout",
     "output_type": "stream",
     "text": [
      "[1, 2, 3, 4, 5, 6, 7, 8, 9, 10, 11, 12, 13, 14, 15, 16, 17, 18, 19, 20]\n"
     ]
    }
   ],
   "source": [
    "def a ():\n",
    "    b = {}\n",
    "    for i in range (1,21):\n",
    "        b[i] = i**2\n",
    "    keys = list(b.keys())\n",
    "    print(keys)\n",
    "    \n",
    "a()"
   ]
  },
  {
   "cell_type": "markdown",
   "metadata": {},
   "source": [
    "## Question 37\n",
    "Define a function which can generate and print a list where the values are square of numbers between 1 and 20 (both included)."
   ]
  },
  {
   "cell_type": "code",
   "execution_count": 25,
   "metadata": {},
   "outputs": [],
   "source": [
    "def a ():\n",
    "    b = [x**2 for x in range(1, 21) ]\n",
    "    print(b)"
   ]
  },
  {
   "cell_type": "code",
   "execution_count": 26,
   "metadata": {},
   "outputs": [
    {
     "name": "stdout",
     "output_type": "stream",
     "text": [
      "[1, 4, 9, 16, 25, 36, 49, 64, 81, 100, 121, 144, 169, 196, 225, 256, 289, 324, 361, 400]\n"
     ]
    }
   ],
   "source": [
    "a()"
   ]
  },
  {
   "cell_type": "markdown",
   "metadata": {},
   "source": [
    "## Question 38\n",
    "Define a function which can generate a list where the values are square of numbers between 1 and 20 (both included). Then the function needs to print the first 5 elements in the list."
   ]
  },
  {
   "cell_type": "code",
   "execution_count": 6,
   "metadata": {},
   "outputs": [],
   "source": [
    "def a ():\n",
    "    b = [x**2 for x in range(1,21)]\n",
    "    print(b[0:5])\n",
    "    "
   ]
  },
  {
   "cell_type": "code",
   "execution_count": 7,
   "metadata": {},
   "outputs": [
    {
     "name": "stdout",
     "output_type": "stream",
     "text": [
      "[1, 4, 9, 16, 25]\n"
     ]
    }
   ],
   "source": [
    "a()"
   ]
  },
  {
   "cell_type": "markdown",
   "metadata": {},
   "source": [
    "## Question 39\n",
    "\n",
    "Define a function which can generate a list where the values are square of numbers between 1 and 20 (both included). Then the function needs to print the last 5 elements in the list."
   ]
  },
  {
   "cell_type": "code",
   "execution_count": 2,
   "metadata": {},
   "outputs": [],
   "source": [
    "def a ():\n",
    "    b = [x**2 for x in range(1,21)]\n",
    "    print(b[0:5])\n",
    "    "
   ]
  },
  {
   "cell_type": "code",
   "execution_count": 3,
   "metadata": {},
   "outputs": [
    {
     "name": "stdout",
     "output_type": "stream",
     "text": [
      "[1, 4, 9, 16, 25]\n"
     ]
    }
   ],
   "source": [
    "a()"
   ]
  },
  {
   "cell_type": "markdown",
   "metadata": {},
   "source": [
    "# Question 40\n",
    "Define a function which can generate a list where the values are square of numbers between 1 and 20 (both included). Then the function needs to print all values except the first 5 elements in the list."
   ]
  },
  {
   "cell_type": "code",
   "execution_count": 7,
   "metadata": {},
   "outputs": [],
   "source": [
    "def a ():\n",
    "    b = [x**2 for x in range(1,21)]\n",
    "    \n",
    "    print(b[5:])\n",
    "    "
   ]
  },
  {
   "cell_type": "code",
   "execution_count": 8,
   "metadata": {},
   "outputs": [
    {
     "name": "stdout",
     "output_type": "stream",
     "text": [
      "[36, 49, 64, 81, 100, 121, 144, 169, 196, 225, 256, 289, 324, 361, 400]\n"
     ]
    }
   ],
   "source": [
    "a()"
   ]
  },
  {
   "cell_type": "markdown",
   "metadata": {},
   "source": [
    "# Question 41\n",
    "Define a function which can generate and print a tuple where the value are square of numbers between 1 and 20 (both included)."
   ]
  },
  {
   "cell_type": "code",
   "execution_count": 11,
   "metadata": {},
   "outputs": [],
   "source": [
    "def a ():\n",
    "    b = tuple([x**2 for x in range(1,21)])\n",
    "    print(b)"
   ]
  },
  {
   "cell_type": "code",
   "execution_count": 12,
   "metadata": {},
   "outputs": [
    {
     "name": "stdout",
     "output_type": "stream",
     "text": [
      "(1, 4, 9, 16, 25, 36, 49, 64, 81, 100, 121, 144, 169, 196, 225, 256, 289, 324, 361, 400)\n"
     ]
    }
   ],
   "source": [
    "a()"
   ]
  },
  {
   "cell_type": "markdown",
   "metadata": {},
   "source": [
    "# Question 42\n",
    "With a given tuple (1,2,3,4,5,6,7,8,9,10), write a program to print the first half values in one line and the last half values in one line."
   ]
  },
  {
   "cell_type": "code",
   "execution_count": 158,
   "metadata": {},
   "outputs": [],
   "source": [
    "a = (1,2,3,4,5,6,7,8,9,10)"
   ]
  },
  {
   "cell_type": "code",
   "execution_count": 160,
   "metadata": {},
   "outputs": [
    {
     "name": "stdout",
     "output_type": "stream",
     "text": [
      "(1, 2, 3, 4, 5)\n",
      "(6, 7, 8, 9, 10)\n"
     ]
    }
   ],
   "source": [
    "tp1 = a[0:int(len(a) / 2)]\n",
    "tp2 = a[int(len(a) / 2):len(a)]\n",
    "print(tp1)\n",
    "print(tp2)"
   ]
  },
  {
   "cell_type": "markdown",
   "metadata": {},
   "source": [
    "# Question 43\n",
    "Write a program to generate and print another tuple whose values are even numbers in the given tuple (1,2,3,4,5,6,7,8,9,10).\n",
    "\n"
   ]
  },
  {
   "cell_type": "code",
   "execution_count": 168,
   "metadata": {},
   "outputs": [],
   "source": [
    "a = (1,2,3,4,5,6,7,8,9,10)"
   ]
  },
  {
   "cell_type": "code",
   "execution_count": 162,
   "metadata": {},
   "outputs": [],
   "source": [
    "b = list(a)"
   ]
  },
  {
   "cell_type": "code",
   "execution_count": 163,
   "metadata": {},
   "outputs": [],
   "source": [
    "c = []\n",
    "for i in b : \n",
    "    if i % 2 == 0 :\n",
    "        c.append(i)\n",
    "    "
   ]
  },
  {
   "cell_type": "code",
   "execution_count": 164,
   "metadata": {},
   "outputs": [],
   "source": [
    "d = tuple(c)"
   ]
  },
  {
   "cell_type": "code",
   "execution_count": 165,
   "metadata": {},
   "outputs": [
    {
     "data": {
      "text/plain": [
       "(2, 4, 6, 8, 10)"
      ]
     },
     "execution_count": 165,
     "metadata": {},
     "output_type": "execute_result"
    }
   ],
   "source": [
    "d"
   ]
  },
  {
   "cell_type": "code",
   "execution_count": 169,
   "metadata": {},
   "outputs": [
    {
     "data": {
      "text/plain": [
       "(2, 4, 6, 8, 10)"
      ]
     },
     "execution_count": 169,
     "metadata": {},
     "output_type": "execute_result"
    }
   ],
   "source": [
    "# 한 줄로\n",
    "tuple(filter(lambda x: x % 2 == 0, list(a)))"
   ]
  },
  {
   "cell_type": "markdown",
   "metadata": {},
   "source": [
    "# Question 44\n",
    "Write a program which accepts a string as input to print \"Yes\" if the string is \"yes\" or \"YES\" or \"Yes\", otherwise print \"No\".\n",
    "\n"
   ]
  },
  {
   "cell_type": "code",
   "execution_count": 170,
   "metadata": {},
   "outputs": [
    {
     "name": "stdout",
     "output_type": "stream",
     "text": [
      "Input: yes\n",
      "Yes\n",
      "Yes\n"
     ]
    }
   ],
   "source": [
    "get_values = input(\"Input: \")\n",
    "\n",
    "if get_values == \"yes\":\n",
    "    print(\"Yes\")\n",
    "elif get_values == \"YES\":\n",
    "    print(\"Yes\")\n",
    "elif get_values == \"Yes\":\n",
    "    print(\"Yes\")\n",
    "else:\n",
    "    print(\"No\")\n",
    "    \n",
    "if get_values.lower() == \"yes\":\n",
    "    print(\"Yes\")\n",
    "else:\n",
    "    print(\"No\")"
   ]
  },
  {
   "cell_type": "markdown",
   "metadata": {},
   "source": [
    "# Question 45\n",
    "Write a program which can filter even numbers in a list by using filter function. The list is: [1,2,3,4,5,6,7,8,9,10]."
   ]
  },
  {
   "cell_type": "code",
   "execution_count": 66,
   "metadata": {},
   "outputs": [],
   "source": [
    "a = [1,2,3,4,5,6,7,8,9,10]"
   ]
  },
  {
   "cell_type": "code",
   "execution_count": 109,
   "metadata": {},
   "outputs": [],
   "source": [
    "def func(a):\n",
    "    if a % 2 == 0:\n",
    "        return True\n",
    "    else:\n",
    "        return False\n",
    "    \n",
    "#     return a % 2 == 0:    "
   ]
  },
  {
   "cell_type": "code",
   "execution_count": 110,
   "metadata": {},
   "outputs": [
    {
     "data": {
      "text/plain": [
       "[2, 4, 6, 8, 10]"
      ]
     },
     "execution_count": 110,
     "metadata": {},
     "output_type": "execute_result"
    }
   ],
   "source": [
    "list(filter(func, a))\n",
    "list(filter(lambda a: a % 2 == 0, a))\n",
    "#filter(펑션자체, 리스트)\n"
   ]
  },
  {
   "cell_type": "code",
   "execution_count": 111,
   "metadata": {},
   "outputs": [
    {
     "data": {
      "text/plain": [
       "[2, 4, 6, 8, 10]"
      ]
     },
     "execution_count": 111,
     "metadata": {},
     "output_type": "execute_result"
    }
   ],
   "source": [
    "[ i for i in a if i % 2 == 0 ]\n"
   ]
  },
  {
   "cell_type": "markdown",
   "metadata": {},
   "source": [
    "# Question 46\n",
    "Write a program which can map() to make a list whose elements are square of elements in [1,2,3,4,5,6,7,8,9,10].\n",
    "\n"
   ]
  },
  {
   "cell_type": "code",
   "execution_count": 97,
   "metadata": {},
   "outputs": [],
   "source": [
    "a =  [1,2,3,4,5,6,7,8,9,10]"
   ]
  },
  {
   "cell_type": "code",
   "execution_count": 106,
   "metadata": {},
   "outputs": [],
   "source": [
    "def func(x):\n",
    "    return x**2"
   ]
  },
  {
   "cell_type": "code",
   "execution_count": 107,
   "metadata": {},
   "outputs": [],
   "source": [
    "b = list(map(func, a))"
   ]
  },
  {
   "cell_type": "code",
   "execution_count": 108,
   "metadata": {},
   "outputs": [
    {
     "data": {
      "text/plain": [
       "[1, 4, 9, 16, 25, 36, 49, 64, 81, 100]"
      ]
     },
     "execution_count": 108,
     "metadata": {},
     "output_type": "execute_result"
    }
   ],
   "source": [
    "b"
   ]
  },
  {
   "cell_type": "markdown",
   "metadata": {},
   "source": [
    "# Question 47\n",
    "Write a program which can map() and filter() to make a list whose elements are square of even number in [1,2,3,4,5,6,7,8,9,10].\n",
    "\n"
   ]
  },
  {
   "cell_type": "code",
   "execution_count": 123,
   "metadata": {},
   "outputs": [],
   "source": [
    "a =  [1,2,3,4,5,6,7,8,9,10]\n",
    "def func1(a):\n",
    "    if a % 2 == 0:\n",
    "        return True\n",
    "    else:\n",
    "        return False\n",
    "    \n",
    "def func2(x):\n",
    "    return x**2"
   ]
  },
  {
   "cell_type": "code",
   "execution_count": 134,
   "metadata": {
    "scrolled": true
   },
   "outputs": [],
   "source": [
    "b = list(map(func2, list(filter(func1, a))))"
   ]
  },
  {
   "cell_type": "code",
   "execution_count": 137,
   "metadata": {},
   "outputs": [],
   "source": [
    "b = list(map(func2, filter(func1, a)))\n",
    "#둘다 가능 \n",
    "\n",
    "[ i**2 for i in a if i % 2 == 0 ]\n"
   ]
  },
  {
   "cell_type": "markdown",
   "metadata": {},
   "source": [
    "# Question 48\n",
    "Write a program which can filter() to make a list whose elements are even number between 1 and 20 (both included).\n",
    "\n"
   ]
  },
  {
   "cell_type": "code",
   "execution_count": 142,
   "metadata": {},
   "outputs": [
    {
     "data": {
      "text/plain": [
       "[2, 4, 6, 8, 10, 12, 14, 16, 18, 20]"
      ]
     },
     "execution_count": 142,
     "metadata": {},
     "output_type": "execute_result"
    }
   ],
   "source": [
    "def func(a):\n",
    "    if a % 2 == 0:\n",
    "        return True\n",
    "    else:\n",
    "        return False\n",
    "    \n",
    "list(filter(func, list(range(1,21))))\n"
   ]
  },
  {
   "cell_type": "markdown",
   "metadata": {},
   "source": [
    "# Question 49\n",
    "Write a program which can map() to make a list whose elements are square of numbers between 1 and 20 (both included)."
   ]
  },
  {
   "cell_type": "code",
   "execution_count": 144,
   "metadata": {},
   "outputs": [
    {
     "data": {
      "text/plain": [
       "[1,\n",
       " 4,\n",
       " 9,\n",
       " 16,\n",
       " 25,\n",
       " 36,\n",
       " 49,\n",
       " 64,\n",
       " 81,\n",
       " 100,\n",
       " 121,\n",
       " 144,\n",
       " 169,\n",
       " 196,\n",
       " 225,\n",
       " 256,\n",
       " 289,\n",
       " 324,\n",
       " 361,\n",
       " 400]"
      ]
     },
     "execution_count": 144,
     "metadata": {},
     "output_type": "execute_result"
    }
   ],
   "source": [
    "def func(x):\n",
    "    return x**2\n",
    "\n",
    "list(map(func, list(range(1,21))))"
   ]
  },
  {
   "cell_type": "markdown",
   "metadata": {},
   "source": [
    "# Question 50\n",
    "Define a class named American which has a static method called printNationality.\n",
    "anAmerican = American()\n",
    "anAmerican.printNationality()\n",
    "American.printNationality()"
   ]
  },
  {
   "cell_type": "code",
   "execution_count": 146,
   "metadata": {},
   "outputs": [
    {
     "name": "stdout",
     "output_type": "stream",
     "text": [
      "America\n",
      "America\n"
     ]
    }
   ],
   "source": [
    "class American():\n",
    "    @staticmethod\n",
    "    def printNationality():\n",
    "        print(\"America\")\n",
    "\n",
    "anAmerican = American()\n",
    "anAmerican.printNationality()\n",
    "\n",
    "\n",
    "American.printNationality()\n",
    "        "
   ]
  },
  {
   "cell_type": "markdown",
   "metadata": {},
   "source": [
    "# Question 51\n",
    "Define a class named American and its subclass NewYorker."
   ]
  },
  {
   "cell_type": "code",
   "execution_count": 182,
   "metadata": {},
   "outputs": [
    {
     "name": "stdout",
     "output_type": "stream",
     "text": [
      "America\n",
      "NewYork\n",
      "Foo\n"
     ]
    }
   ],
   "source": [
    "class American():\n",
    "    def foo(self):\n",
    "        print(\"Foo\")\n",
    "    def printNationality(self):\n",
    "        print(\"America\")\n",
    "\n",
    "class NewYorker(American):\n",
    "    def printNationality(self):\n",
    "        print(\"NewYork\")\n",
    "\n",
    "anAmerican = American()\n",
    "aNewYorker = NewYorker()\n",
    "\n",
    "anAmerican.printNationality()\n",
    "aNewYorker.printNationality()\n",
    "aNewYorker.foo()"
   ]
  },
  {
   "cell_type": "markdown",
   "metadata": {},
   "source": [
    "# Question 52\n",
    "Define a class named Circle which can be constructed by a radius. The Circle class has a method which can compute the area.\n"
   ]
  },
  {
   "cell_type": "code",
   "execution_count": 187,
   "metadata": {},
   "outputs": [
    {
     "data": {
      "text/plain": [
       "12.56"
      ]
     },
     "execution_count": 187,
     "metadata": {},
     "output_type": "execute_result"
    }
   ],
   "source": [
    "class Circle():\n",
    "    def __init__(self, r):\n",
    "        self.radius = r\n",
    "    def area(self):\n",
    "        return self.radius**2*3.14\n",
    "\n",
    "aCircle = Circle(2)\n",
    "aCircle.area()"
   ]
  },
  {
   "cell_type": "markdown",
   "metadata": {},
   "source": [
    "# Question 53\n",
    "Define a class named Rectangle which can be constructed by a length and width. The Rectangle class has a method which can compute the area.\n",
    "\n"
   ]
  },
  {
   "cell_type": "code",
   "execution_count": 188,
   "metadata": {},
   "outputs": [
    {
     "data": {
      "text/plain": [
       "12"
      ]
     },
     "execution_count": 188,
     "metadata": {},
     "output_type": "execute_result"
    }
   ],
   "source": [
    "class Rectangle():\n",
    "    def __init__(self, l, w):\n",
    "        self.length = l\n",
    "        self.width = w\n",
    "    def area(self):\n",
    "        return self.length*self.width\n",
    "\n",
    "aRectangle = Rectangle(3 , 4)\n",
    "aRectangle.area()"
   ]
  },
  {
   "cell_type": "markdown",
   "metadata": {},
   "source": [
    "# Question 54\n",
    "Define a class named Shape and its subclass Square. The Square class has an init function which takes a length as argument. Both classes have a area function which can print the area of the shape where Shape's area is 0 by default."
   ]
  },
  {
   "cell_type": "code",
   "execution_count": 192,
   "metadata": {},
   "outputs": [],
   "source": [
    "class Shape():\n",
    "    def __init__(self):\n",
    "        pass\n",
    "    def area(self):\n",
    "        return 0\n",
    "    \n",
    "class Square(Shape):\n",
    "    def __init__(self, l = 0):\n",
    "        self.length = l \n",
    "    def area(self):\n",
    "        return self.length**2"
   ]
  },
  {
   "cell_type": "code",
   "execution_count": 193,
   "metadata": {},
   "outputs": [
    {
     "data": {
      "text/plain": [
       "9"
      ]
     },
     "execution_count": 193,
     "metadata": {},
     "output_type": "execute_result"
    }
   ],
   "source": [
    "aSquare = Square(3)\n",
    "aSquare.area()"
   ]
  },
  {
   "cell_type": "code",
   "execution_count": 196,
   "metadata": {},
   "outputs": [
    {
     "data": {
      "text/plain": [
       "0"
      ]
     },
     "execution_count": 196,
     "metadata": {},
     "output_type": "execute_result"
    }
   ],
   "source": [
    "Square().area()"
   ]
  },
  {
   "cell_type": "markdown",
   "metadata": {},
   "source": [
    "# Question 55\n",
    "Please raise a RuntimeError exception."
   ]
  },
  {
   "cell_type": "code",
   "execution_count": 197,
   "metadata": {},
   "outputs": [
    {
     "ename": "RuntimeError",
     "evalue": "something wrong",
     "output_type": "error",
     "traceback": [
      "\u001b[0;31m---------------------------------------------------------------------------\u001b[0m",
      "\u001b[0;31mRuntimeError\u001b[0m                              Traceback (most recent call last)",
      "\u001b[0;32m<ipython-input-197-53fba0153627>\u001b[0m in \u001b[0;36m<module>\u001b[0;34m\u001b[0m\n\u001b[0;32m----> 1\u001b[0;31m \u001b[0;32mraise\u001b[0m \u001b[0mRuntimeError\u001b[0m\u001b[0;34m(\u001b[0m\u001b[0;34m'something wrong'\u001b[0m\u001b[0;34m)\u001b[0m\u001b[0;34m\u001b[0m\u001b[0;34m\u001b[0m\u001b[0m\n\u001b[0m",
      "\u001b[0;31mRuntimeError\u001b[0m: something wrong"
     ]
    }
   ],
   "source": [
    "raise RuntimeError('something wrong')"
   ]
  },
  {
   "cell_type": "markdown",
   "metadata": {},
   "source": [
    "# Question 56\n",
    "Write a function to compute 5/0 and use try/except to catch the exceptions."
   ]
  },
  {
   "cell_type": "code",
   "execution_count": 201,
   "metadata": {},
   "outputs": [
    {
     "name": "stdout",
     "output_type": "stream",
     "text": [
      "division by zero!\n",
      "In finally block for cleanup\n"
     ]
    }
   ],
   "source": [
    "def throws():\n",
    "    return 5/0\n",
    "\n",
    "try:\n",
    "    throws()\n",
    "except ZeroDivisionError:\n",
    "    print (\"division by zero!\")\n",
    "except Exception:\n",
    "    print (\"Caught an Exception!\")\n",
    "finally :\n",
    "    print (\"In finally block for cleanup\")"
   ]
  },
  {
   "cell_type": "markdown",
   "metadata": {},
   "source": [
    "# Question 57\n",
    "Define a custom exception class which takes a string message as attribute."
   ]
  },
  {
   "cell_type": "code",
   "execution_count": 209,
   "metadata": {},
   "outputs": [],
   "source": [
    "class MyError(Exception):\n",
    "    def __init__(self, message):\n",
    "        self.message = message"
   ]
  },
  {
   "cell_type": "code",
   "execution_count": 210,
   "metadata": {},
   "outputs": [
    {
     "ename": "MyError",
     "evalue": "Error Message",
     "output_type": "error",
     "traceback": [
      "\u001b[0;31m---------------------------------------------------------------------------\u001b[0m",
      "\u001b[0;31mMyError\u001b[0m                                   Traceback (most recent call last)",
      "\u001b[0;32m<ipython-input-210-5fdcaf8344fd>\u001b[0m in \u001b[0;36m<module>\u001b[0;34m\u001b[0m\n\u001b[0;32m----> 1\u001b[0;31m \u001b[0;32mraise\u001b[0m \u001b[0mMyError\u001b[0m\u001b[0;34m(\u001b[0m\u001b[0;34m\"Error Message\"\u001b[0m\u001b[0;34m)\u001b[0m\u001b[0;34m\u001b[0m\u001b[0;34m\u001b[0m\u001b[0m\n\u001b[0m",
      "\u001b[0;31mMyError\u001b[0m: Error Message"
     ]
    }
   ],
   "source": [
    "raise MyError(\"Error Message\")"
   ]
  },
  {
   "cell_type": "markdown",
   "metadata": {},
   "source": [
    "# Question 58\n",
    "Assuming that we have some email addresses in the \"username@companyname.com\" format, please write program to print the user name of a given email address. Both user names and company names are composed of letters only.\n",
    "\n",
    "Example:\n",
    "If the following email address is given as input to the program:\n",
    "\n",
    "john@google.com\n",
    "\n",
    "Then, the output of the program should be:\n",
    "\n",
    "john\n",
    "\n",
    "In case of input data being supplied to the question, it should be assumed to be a console input."
   ]
  },
  {
   "cell_type": "code",
   "execution_count": 213,
   "metadata": {},
   "outputs": [
    {
     "name": "stdout",
     "output_type": "stream",
     "text": [
      "['john']\n"
     ]
    }
   ],
   "source": [
    "import re\n",
    "emailadress =  \"john@google.com\"\n",
    "pattern = \"(\\w+)@\\w+.com\"\n",
    "ans = re.findall(pattern, emailadress)\n",
    "print(ans)"
   ]
  },
  {
   "cell_type": "markdown",
   "metadata": {},
   "source": [
    "# Question 59\n",
    "Assuming that we have some email addresses in the \"username@companyname.com\" format, please write program to print the company name of a given email address. Both user names and company names are composed of letters only.\n",
    "\n",
    "Example:\n",
    "If the following email address is given as input to the program:\n",
    "\n",
    "john@google.com\n",
    "\n",
    "Then, the output of the program should be:\n",
    "\n",
    "google\n",
    "\n",
    "In case of input data being supplied to the question, it should be assumed to be a console input.\n",
    "Write a program which accepts a sequence of words separated by whitespace as input to print the words composed of digits only.\n",
    "\n",
    "Example:\n",
    "If the following words is given as input to the program:\n",
    "\n",
    "2 cats and 3 dogs.\n",
    "\n",
    "Then, the output of the program should be:\n",
    "\n",
    "['2', '3']\n",
    "\n",
    "In case of input data being supplied to the question, it should be assumed to be a console input."
   ]
  },
  {
   "cell_type": "code",
   "execution_count": 327,
   "metadata": {},
   "outputs": [],
   "source": [
    "import re\n",
    "emailaddress = 'john@google.com'\n",
    "pattern = \"(\\w+)@\\w+.com\""
   ]
  },
  {
   "cell_type": "code",
   "execution_count": 328,
   "metadata": {},
   "outputs": [],
   "source": [
    "ans = re.findall(pattern, emailaddress)\n"
   ]
  },
  {
   "cell_type": "code",
   "execution_count": 329,
   "metadata": {},
   "outputs": [
    {
     "name": "stdout",
     "output_type": "stream",
     "text": [
      "['john']\n"
     ]
    }
   ],
   "source": [
    "print(ans)\n"
   ]
  },
  {
   "cell_type": "code",
   "execution_count": 330,
   "metadata": {},
   "outputs": [
    {
     "name": "stdout",
     "output_type": "stream",
     "text": [
      "['2', '3']\n"
     ]
    }
   ],
   "source": [
    "import re\n",
    "emailaddress = '2 cats and 3 dogs.'\n",
    "pattern = \"\\d+\"\n",
    "ans = re.findall(pattern, emailaddress)\n",
    "print(ans)"
   ]
  },
  {
   "cell_type": "markdown",
   "metadata": {},
   "source": [
    "# Question 60\n",
    "Print a unicode string \"hello world\".\n",
    "\n"
   ]
  },
  {
   "cell_type": "code",
   "execution_count": 336,
   "metadata": {},
   "outputs": [],
   "source": [
    "unicodeString = u\"hello world!\""
   ]
  },
  {
   "cell_type": "code",
   "execution_count": 338,
   "metadata": {},
   "outputs": [
    {
     "name": "stdout",
     "output_type": "stream",
     "text": [
      "hello world!\n"
     ]
    }
   ],
   "source": [
    "print (unicodeString)"
   ]
  },
  {
   "cell_type": "markdown",
   "metadata": {},
   "source": [
    "# Question 61\n",
    "Write a program to read an ASCII string and to convert it to a unicode string encoded by utf-8.\n",
    "\n"
   ]
  },
  {
   "cell_type": "code",
   "execution_count": 344,
   "metadata": {},
   "outputs": [
    {
     "name": "stdout",
     "output_type": "stream",
     "text": [
      "dd\n",
      "b'dd'\n"
     ]
    }
   ],
   "source": [
    "s = input()\n",
    "u = s.encode(\"utf-8\")\n",
    "print(u)"
   ]
  },
  {
   "cell_type": "markdown",
   "metadata": {},
   "source": [
    "# Question 62\n",
    "Write a special comment to indicate a Python source code file is in unicode."
   ]
  },
  {
   "cell_type": "code",
   "execution_count": 345,
   "metadata": {},
   "outputs": [],
   "source": [
    "# -*- coding: utf-8 -*-"
   ]
  },
  {
   "cell_type": "markdown",
   "metadata": {},
   "source": [
    "# Question 63\n",
    "Write a program to compute 1/2+2/3+3/4+...+n/n+1 with a given n input by console (n>0).\n",
    "\n",
    "Example:\n",
    "If the following n is given as input to the program:\n",
    "\n",
    "5\n",
    "\n",
    "Then, the output of the program should be:\n",
    "\n",
    "3.55\n",
    "\n",
    "In case of input data being supplied to the question, it should be assumed to be a console input.\n",
    "\n"
   ]
  },
  {
   "cell_type": "code",
   "execution_count": 356,
   "metadata": {},
   "outputs": [
    {
     "name": "stdout",
     "output_type": "stream",
     "text": [
      "5\n",
      "3.55\n"
     ]
    }
   ],
   "source": [
    "n = int(input())\n",
    "result = 0\n",
    "for i in range (1, n+1) :\n",
    "    result += (i / (i + 1))\n",
    "    \n",
    "print(round(result, 2))"
   ]
  },
  {
   "cell_type": "markdown",
   "metadata": {},
   "source": [
    "# Question 64\n",
    "Write a program to compute:\n",
    "\n",
    "f(n)=f(n-1)+100 when n>0\n",
    "and f(0)=1\n",
    "\n",
    "with a given n input by console (n>0).\n",
    "\n",
    "Example:\n",
    "If the following n is given as input to the program:\n",
    "\n",
    "5\n",
    "\n",
    "Then, the output of the program should be:\n",
    "\n",
    "500\n",
    "\n",
    "In case of input data being supplied to the question, it should be assumed to be a console input."
   ]
  },
  {
   "cell_type": "code",
   "execution_count": 358,
   "metadata": {},
   "outputs": [
    {
     "name": "stdout",
     "output_type": "stream",
     "text": [
      "5\n"
     ]
    }
   ],
   "source": [
    "def f(n) :\n",
    "    if n == 0 :\n",
    "        return 0 \n",
    "    else :\n",
    "        return f(n-1) + 100\n",
    "    \n",
    "n = int(input())"
   ]
  },
  {
   "cell_type": "code",
   "execution_count": 359,
   "metadata": {},
   "outputs": [
    {
     "data": {
      "text/plain": [
       "500"
      ]
     },
     "execution_count": 359,
     "metadata": {},
     "output_type": "execute_result"
    }
   ],
   "source": [
    "f(n)\n"
   ]
  },
  {
   "cell_type": "markdown",
   "metadata": {},
   "source": [
    "# Question 65\n",
    "The Fibonacci Sequence is computed based on the following formula:\n",
    "\n",
    "f(n)=0 if n=0\n",
    "f(n)=1 if n=1\n",
    "f(n)=f(n-1)+f(n-2) if n>1\n",
    "\n",
    "Please write a program to compute the value of f(n) with a given n input by console.\n",
    "\n",
    "Example:\n",
    "If the following n is given as input to the program:\n",
    "\n",
    "7\n",
    "\n",
    "Then, the output of the program should be:\n",
    "\n",
    "13\n",
    "\n",
    "In case of input data being supplied to the question, it should be assumed to be a console input. "
   ]
  },
  {
   "cell_type": "code",
   "execution_count": 360,
   "metadata": {},
   "outputs": [
    {
     "name": "stdout",
     "output_type": "stream",
     "text": [
      "7\n"
     ]
    }
   ],
   "source": [
    "def f(n) :\n",
    "    if n ==0 :\n",
    "        return 0 \n",
    "    elif n == 1 :\n",
    "        return 1\n",
    "    else :\n",
    "        return f(n-1) + f(n-2)\n",
    "    \n",
    "n = int(input())"
   ]
  },
  {
   "cell_type": "code",
   "execution_count": 361,
   "metadata": {},
   "outputs": [
    {
     "data": {
      "text/plain": [
       "13"
      ]
     },
     "execution_count": 361,
     "metadata": {},
     "output_type": "execute_result"
    }
   ],
   "source": [
    "f(n)"
   ]
  },
  {
   "cell_type": "markdown",
   "metadata": {},
   "source": [
    "# Question 66\n",
    "The Fibonacci Sequence is computed based on the following formula:\n",
    "\n",
    "f(n)=0 if n=0\n",
    "f(n)=1 if n=1\n",
    "f(n)=f(n-1)+f(n-2) if n>1\n",
    "\n",
    "Please write a program using list comprehension to print the Fibonacci Sequence in comma separated form with a given n input by console.\n",
    "\n",
    "Example:\n",
    "If the following n is given as input to the program:\n",
    "\n",
    "7\n",
    "\n",
    "Then, the output of the program should be:\n",
    "\n",
    "0,1,1,2,3,5,8,13\n",
    "\n"
   ]
  },
  {
   "cell_type": "code",
   "execution_count": 365,
   "metadata": {},
   "outputs": [
    {
     "name": "stdout",
     "output_type": "stream",
     "text": [
      "7\n"
     ]
    }
   ],
   "source": [
    "def f(n) :\n",
    "    if n ==0 :\n",
    "        return 0 \n",
    "    elif n == 1 :\n",
    "        return 1\n",
    "    else :\n",
    "        return f(n-1) + f(n-2)\n",
    "    \n",
    "n = int(input())"
   ]
  },
  {
   "cell_type": "code",
   "execution_count": 368,
   "metadata": {},
   "outputs": [],
   "source": [
    "values = [ str(f(n))for n in range(0, n+1)]"
   ]
  },
  {
   "cell_type": "code",
   "execution_count": 369,
   "metadata": {},
   "outputs": [
    {
     "name": "stdout",
     "output_type": "stream",
     "text": [
      "0,1,1,2,3,5,8,13\n"
     ]
    }
   ],
   "source": [
    "print(\",\".join(values))"
   ]
  },
  {
   "cell_type": "markdown",
   "metadata": {},
   "source": [
    "# Question 67\n",
    "Please write a program using generator to print the even numbers between 0 and n in comma separated form while n is input by console.\n",
    "\n",
    "Example:\n",
    "If the following n is given as input to the program:\n",
    "\n",
    "10\n",
    "\n",
    "Then, the output of the program should be:\n",
    "\n",
    "0,2,4,6,8,10"
   ]
  },
  {
   "cell_type": "code",
   "execution_count": 370,
   "metadata": {},
   "outputs": [],
   "source": [
    "def EvenGenerator(n):\n",
    "    i = 0\n",
    "    while i <= n:\n",
    "        if i % 2==0:\n",
    "            yield i\n",
    "        i += 1"
   ]
  },
  {
   "cell_type": "code",
   "execution_count": 373,
   "metadata": {},
   "outputs": [
    {
     "name": "stdout",
     "output_type": "stream",
     "text": [
      "10\n"
     ]
    }
   ],
   "source": [
    "n = int(input())\n",
    "values = []\n",
    "for i in EvenGenerator(n):\n",
    "    values.append(str(i))"
   ]
  },
  {
   "cell_type": "code",
   "execution_count": 374,
   "metadata": {},
   "outputs": [
    {
     "name": "stdout",
     "output_type": "stream",
     "text": [
      "0,2,4,6,8,10\n"
     ]
    }
   ],
   "source": [
    "print(\",\".join(values))"
   ]
  },
  {
   "cell_type": "code",
   "execution_count": null,
   "metadata": {},
   "outputs": [],
   "source": [
    "# Even generator 잘 모르겠는 부분 있음"
   ]
  },
  {
   "cell_type": "code",
   "execution_count": 379,
   "metadata": {},
   "outputs": [],
   "source": [
    "def EvenGenerator(n):\n",
    "    if n % 2 == 0:\n",
    "        return n\n",
    "    else :\n",
    "        pass "
   ]
  },
  {
   "cell_type": "code",
   "execution_count": 382,
   "metadata": {},
   "outputs": [],
   "source": [
    "values =  [ str(EvenGenerator(n)) for n in range(0,10) if n % 2 == 0  ]"
   ]
  },
  {
   "cell_type": "code",
   "execution_count": 383,
   "metadata": {},
   "outputs": [
    {
     "data": {
      "text/plain": [
       "['0', '2', '4', '6', '8']"
      ]
     },
     "execution_count": 383,
     "metadata": {},
     "output_type": "execute_result"
    }
   ],
   "source": [
    "values"
   ]
  },
  {
   "cell_type": "markdown",
   "metadata": {},
   "source": [
    "# Question 68\n",
    "Please write a program using generator to print the numbers which can be divisible by 5 and 7 between 0 and n in comma separated form while n is input by console.\n",
    "\n",
    "Example:\n",
    "If the following n is given as input to the program:\n",
    "\n",
    "100\n",
    "\n",
    "Then, the output of the program should be:\n",
    "\n",
    "0,35,70\n",
    "\n"
   ]
  },
  {
   "cell_type": "code",
   "execution_count": 400,
   "metadata": {},
   "outputs": [],
   "source": [
    "def generator(n):\n",
    "    i = 0\n",
    "    while i <= n :\n",
    "        if i %5 == 0 and i % 7 == 0:\n",
    "            yield i \n",
    "        i += 1"
   ]
  },
  {
   "cell_type": "code",
   "execution_count": 394,
   "metadata": {},
   "outputs": [],
   "source": [
    "def generate(n):\n",
    "    for i in range(n+1):\n",
    "        if i % 35 == 0:    # 5*7 = 35, if a number is divisible by a & b then it is also divisible by a*b\n",
    "            yield i"
   ]
  },
  {
   "cell_type": "code",
   "execution_count": 385,
   "metadata": {},
   "outputs": [
    {
     "name": "stdout",
     "output_type": "stream",
     "text": [
      "100\n"
     ]
    }
   ],
   "source": [
    "n = int(input())"
   ]
  },
  {
   "cell_type": "code",
   "execution_count": 391,
   "metadata": {},
   "outputs": [
    {
     "data": {
      "text/plain": [
       "<generator object generator at 0x1057a8150>"
      ]
     },
     "execution_count": 391,
     "metadata": {},
     "output_type": "execute_result"
    }
   ],
   "source": [
    "generator(100)"
   ]
  },
  {
   "cell_type": "code",
   "execution_count": 401,
   "metadata": {},
   "outputs": [
    {
     "name": "stdout",
     "output_type": "stream",
     "text": [
      "100\n",
      "0,35,70\n"
     ]
    }
   ],
   "source": [
    "n = int(input())\n",
    "values = []\n",
    "resp = [str(i) for i in generator(n)]\n",
    "print(\",\".join(resp))"
   ]
  },
  {
   "cell_type": "code",
   "execution_count": 395,
   "metadata": {},
   "outputs": [
    {
     "name": "stdout",
     "output_type": "stream",
     "text": [
      "100\n",
      "0,35,70\n"
     ]
    }
   ],
   "source": [
    "n = int(input())\n",
    "values = []\n",
    "resp = [str(i) for i in generate(n)]\n",
    "print(\",\".join(resp))"
   ]
  },
  {
   "cell_type": "markdown",
   "metadata": {},
   "source": [
    "# Question 69\n",
    "Please write assert statements to verify that every number in the list [2,4,6,8] is even."
   ]
  },
  {
   "cell_type": "code",
   "execution_count": 403,
   "metadata": {},
   "outputs": [],
   "source": [
    "li = [2,4,6,8]\n",
    "for i in li:\n",
    "    assert i%2 == 0, \"{} is not an even number\".format"
   ]
  },
  {
   "cell_type": "code",
   "execution_count": null,
   "metadata": {},
   "outputs": [],
   "source": [
    "# 처음보는 문제ㅠㅠ"
   ]
  },
  {
   "cell_type": "markdown",
   "metadata": {},
   "source": [
    "# Question 70\n",
    "Please write a program which accepts basic mathematic expression from console and print the evaluation result.\n",
    "\n",
    "Example:\n",
    "If the following string is given as input to the program:\n",
    "\n",
    "35+3\n",
    "\n",
    "Then, the output of the program should be:\n",
    "\n",
    "38\n",
    "\n",
    "ㅡ"
   ]
  },
  {
   "cell_type": "code",
   "execution_count": 404,
   "metadata": {},
   "outputs": [
    {
     "name": "stdout",
     "output_type": "stream",
     "text": [
      "35\n"
     ]
    }
   ],
   "source": [
    "a = int(input())"
   ]
  },
  {
   "cell_type": "code",
   "execution_count": 405,
   "metadata": {},
   "outputs": [
    {
     "name": "stdout",
     "output_type": "stream",
     "text": [
      "3\n"
     ]
    }
   ],
   "source": [
    "b = int(input())"
   ]
  },
  {
   "cell_type": "code",
   "execution_count": 406,
   "metadata": {},
   "outputs": [],
   "source": [
    "def plus(a, b):\n",
    "    return a + b"
   ]
  },
  {
   "cell_type": "code",
   "execution_count": 407,
   "metadata": {},
   "outputs": [
    {
     "name": "stdout",
     "output_type": "stream",
     "text": [
      "38\n"
     ]
    }
   ],
   "source": [
    "print(plus(a, b))"
   ]
  },
  {
   "cell_type": "code",
   "execution_count": 409,
   "metadata": {},
   "outputs": [
    {
     "name": "stdout",
     "output_type": "stream",
     "text": [
      "25+2\n",
      "27\n"
     ]
    }
   ],
   "source": [
    "expression = input()\n",
    "ans = eval(expression)\n",
    "print(ans)\n",
    "\n",
    "\n",
    "# 이게 맞음"
   ]
  },
  {
   "cell_type": "markdown",
   "metadata": {},
   "source": [
    "# Question 71\n",
    "Please write a binary search function which searches an item in a sorted list. The function should return the index of element to be searched in the list."
   ]
  },
  {
   "cell_type": "code",
   "execution_count": null,
   "metadata": {},
   "outputs": [],
   "source": [
    "import math\n",
    "def bin_search(li, element):\n",
    "    bottom  = 0 \n",
    "     top = len(li)-1\n",
    "    index = -1\n",
    "    while top >= bottom and index == -1 : \n",
    "        mid = int(math.floor((top+bottom)/2.0))\n",
    "        if li[mid]== element:\n",
    "            inrd- "
   ]
  },
  {
   "cell_type": "code",
   "execution_count": null,
   "metadata": {},
   "outputs": [],
   "source": [
    "## 이건 안풀어도 됨 ## "
   ]
  },
  {
   "cell_type": "markdown",
   "metadata": {},
   "source": [
    "# Question 72\n",
    "Please generate a random float where the value is between 10 and 100 using Python math module."
   ]
  },
  {
   "cell_type": "code",
   "execution_count": 1,
   "metadata": {},
   "outputs": [],
   "source": [
    "import math"
   ]
  },
  {
   "cell_type": "code",
   "execution_count": 2,
   "metadata": {},
   "outputs": [],
   "source": [
    "import random"
   ]
  },
  {
   "cell_type": "code",
   "execution_count": 7,
   "metadata": {},
   "outputs": [
    {
     "ename": "AttributeError",
     "evalue": "'builtin_function_or_method' object has no attribute 'uniform'",
     "output_type": "error",
     "traceback": [
      "\u001b[0;31m---------------------------------------------------------------------------\u001b[0m",
      "\u001b[0;31mAttributeError\u001b[0m                            Traceback (most recent call last)",
      "\u001b[0;32m<ipython-input-7-c6dde583c5d3>\u001b[0m in \u001b[0;36m<module>\u001b[0;34m\u001b[0m\n\u001b[0;32m----> 1\u001b[0;31m \u001b[0mrandom\u001b[0m\u001b[0;34m.\u001b[0m\u001b[0muniform\u001b[0m\u001b[0;34m(\u001b[0m\u001b[0;36m10\u001b[0m\u001b[0;34m,\u001b[0m\u001b[0;36m100\u001b[0m\u001b[0;34m)\u001b[0m\u001b[0;34m\u001b[0m\u001b[0;34m\u001b[0m\u001b[0m\n\u001b[0m",
      "\u001b[0;31mAttributeError\u001b[0m: 'builtin_function_or_method' object has no attribute 'uniform'"
     ]
    }
   ],
   "source": [
    "random.uniform(10,100)"
   ]
  },
  {
   "cell_type": "code",
   "execution_count": 8,
   "metadata": {},
   "outputs": [],
   "source": [
    "import numpy\n",
    "\n",
    "random_float_number = numpy.random.uniform(10,100)"
   ]
  },
  {
   "cell_type": "code",
   "execution_count": 9,
   "metadata": {},
   "outputs": [
    {
     "name": "stdout",
     "output_type": "stream",
     "text": [
      "random float array in [10, 100] \n",
      " 17.572930244611108 \n",
      "\n"
     ]
    }
   ],
   "source": [
    "print(\"random float array in [10, 100] \\n\", random_float_number,\"\\n\")"
   ]
  },
  {
   "cell_type": "markdown",
   "metadata": {},
   "source": [
    "# Question 73\n",
    "Please generate a random float where the value is between 5 and 95 using Python math module."
   ]
  },
  {
   "cell_type": "code",
   "execution_count": 10,
   "metadata": {},
   "outputs": [],
   "source": [
    "import math \n",
    "import random"
   ]
  },
  {
   "cell_type": "code",
   "execution_count": 11,
   "metadata": {},
   "outputs": [
    {
     "data": {
      "text/plain": [
       "41.21071693482432"
      ]
     },
     "execution_count": 11,
     "metadata": {},
     "output_type": "execute_result"
    }
   ],
   "source": [
    "random.uniform(5,95)"
   ]
  },
  {
   "cell_type": "markdown",
   "metadata": {},
   "source": [
    "# Question 74\n",
    "Please write a program to output a random even number between 0 and 10 inclusive using random module and list comprehension.\n",
    "\n"
   ]
  },
  {
   "cell_type": "code",
   "execution_count": 52,
   "metadata": {},
   "outputs": [
    {
     "data": {
      "text/plain": [
       "6"
      ]
     },
     "execution_count": 52,
     "metadata": {},
     "output_type": "execute_result"
    }
   ],
   "source": [
    "import random\n",
    "list_1 = [x for x in range(0,11)  if x %2 ==0  ]\n",
    "random.choice(list_1)"
   ]
  },
  {
   "cell_type": "code",
   "execution_count": 53,
   "metadata": {},
   "outputs": [
    {
     "name": "stdout",
     "output_type": "stream",
     "text": [
      "8\n"
     ]
    }
   ],
   "source": [
    "import random \n",
    "list2 = [i for i in range(0,11,2)]\n",
    "print(random.choice(list2))"
   ]
  },
  {
   "cell_type": "markdown",
   "metadata": {},
   "source": [
    "# Question 75\n",
    "Please write a program to output a random number, which is divisible by 5 and 7, between 0 and 10 inclusive using random module and list comprehension.\n",
    "\n"
   ]
  },
  {
   "cell_type": "code",
   "execution_count": 50,
   "metadata": {},
   "outputs": [],
   "source": [
    "import random \n",
    "list_1 = [ x for x in range(0,11) if x %  5  == 0 and x %7 ==0]"
   ]
  },
  {
   "cell_type": "code",
   "execution_count": 51,
   "metadata": {},
   "outputs": [
    {
     "name": "stdout",
     "output_type": "stream",
     "text": [
      "0\n"
     ]
    }
   ],
   "source": [
    "print(random.choice(list_1))"
   ]
  },
  {
   "cell_type": "markdown",
   "metadata": {},
   "source": [
    "# Question 76\n",
    "Please write a program to generate a list with 5 random numbers between 100 and 200 inclusive."
   ]
  },
  {
   "cell_type": "code",
   "execution_count": 56,
   "metadata": {},
   "outputs": [
    {
     "data": {
      "text/plain": [
       "[142, 147, 149, 198, 192]"
      ]
     },
     "execution_count": 56,
     "metadata": {},
     "output_type": "execute_result"
    }
   ],
   "source": [
    "import random\n",
    "random.sample(range(101,201),5)"
   ]
  },
  {
   "cell_type": "markdown",
   "metadata": {},
   "source": [
    "# Question 77\n",
    "Please write a program to randomly generate a list with 5 even numbers between 100 and 200 inclusive.\n",
    "\n"
   ]
  },
  {
   "cell_type": "code",
   "execution_count": 57,
   "metadata": {},
   "outputs": [
    {
     "data": {
      "text/plain": [
       "[180, 162, 186, 174, 118]"
      ]
     },
     "execution_count": 57,
     "metadata": {},
     "output_type": "execute_result"
    }
   ],
   "source": [
    "import random \n",
    "list_1 = [x for x in range(101,201) if x % 2 ==0 ]\n",
    "random.sample(list_1, 5)"
   ]
  },
  {
   "cell_type": "markdown",
   "metadata": {},
   "source": [
    "# Question 78\n",
    "Please write a program to randomly generate a list with 5 numbers, which are divisible by 5 and 7 , between 1 and 1000 inclusive."
   ]
  },
  {
   "cell_type": "code",
   "execution_count": 58,
   "metadata": {},
   "outputs": [
    {
     "data": {
      "text/plain": [
       "[910, 350, 665, 315, 770]"
      ]
     },
     "execution_count": 58,
     "metadata": {},
     "output_type": "execute_result"
    }
   ],
   "source": [
    "import random\n",
    "list_1 = [x for x in range(1, 1001) if x % 35 == 0 ]\n",
    "random.sample(list_1, 5)"
   ]
  },
  {
   "cell_type": "markdown",
   "metadata": {},
   "source": [
    "# Question 79\n",
    "Please write a program to randomly print a integer number between 7 and 15 inclusive."
   ]
  },
  {
   "cell_type": "code",
   "execution_count": 63,
   "metadata": {},
   "outputs": [
    {
     "name": "stdout",
     "output_type": "stream",
     "text": [
      "14\n"
     ]
    }
   ],
   "source": [
    "import random\n",
    "print (random.randrange(7,16))"
   ]
  },
  {
   "cell_type": "code",
   "execution_count": 70,
   "metadata": {},
   "outputs": [],
   "source": [
    "list1 = [x for x in range(0,4)]"
   ]
  },
  {
   "cell_type": "code",
   "execution_count": 71,
   "metadata": {},
   "outputs": [
    {
     "data": {
      "text/plain": [
       "[0, 1, 2, 3]"
      ]
     },
     "execution_count": 71,
     "metadata": {},
     "output_type": "execute_result"
    }
   ],
   "source": [
    "list1"
   ]
  },
  {
   "cell_type": "code",
   "execution_count": 1,
   "metadata": {},
   "outputs": [],
   "source": [
    "list1 = list(range(0,4))"
   ]
  },
  {
   "cell_type": "code",
   "execution_count": 3,
   "metadata": {},
   "outputs": [
    {
     "data": {
      "text/plain": [
       "[0, 1, 2, 3]"
      ]
     },
     "execution_count": 3,
     "metadata": {},
     "output_type": "execute_result"
    }
   ],
   "source": [
    "list1"
   ]
  },
  {
   "cell_type": "markdown",
   "metadata": {},
   "source": [
    "# Question 80\n",
    "Please write a program to compress and decompress the string \"hello world!hello world!hello world!hello world!\".\n",
    "\n"
   ]
  },
  {
   "cell_type": "code",
   "execution_count": 4,
   "metadata": {},
   "outputs": [],
   "source": [
    "import zlib\n",
    "import random\n",
    "import string"
   ]
  },
  {
   "cell_type": "code",
   "execution_count": 5,
   "metadata": {},
   "outputs": [],
   "source": [
    "data =  \"hello world!hello world!hello world!hello world!\""
   ]
  },
  {
   "cell_type": "code",
   "execution_count": 7,
   "metadata": {},
   "outputs": [
    {
     "data": {
      "text/plain": [
       "48"
      ]
     },
     "execution_count": 7,
     "metadata": {},
     "output_type": "execute_result"
    }
   ],
   "source": [
    "len(data)"
   ]
  },
  {
   "cell_type": "code",
   "execution_count": 8,
   "metadata": {},
   "outputs": [],
   "source": [
    "zdata = zlib.compress(bytearray(data, encoding='utf-8'), -1)"
   ]
  },
  {
   "cell_type": "code",
   "execution_count": 10,
   "metadata": {},
   "outputs": [],
   "source": [
    "zdata_length = len(zdata)"
   ]
  },
  {
   "cell_type": "code",
   "execution_count": 11,
   "metadata": {},
   "outputs": [
    {
     "data": {
      "text/plain": [
       "23"
      ]
     },
     "execution_count": 11,
     "metadata": {},
     "output_type": "execute_result"
    }
   ],
   "source": [
    "zdata_length"
   ]
  },
  {
   "cell_type": "code",
   "execution_count": 12,
   "metadata": {},
   "outputs": [
    {
     "data": {
      "text/plain": [
       "b'x\\x9c\\xcbH\\xcd\\xc9\\xc9W(\\xcf/\\xcaIQ\\xcc \\x82\\r\\x00\\xbd[\\x11\\xf5'"
      ]
     },
     "execution_count": 12,
     "metadata": {},
     "output_type": "execute_result"
    }
   ],
   "source": [
    "zdata"
   ]
  },
  {
   "cell_type": "code",
   "execution_count": 14,
   "metadata": {},
   "outputs": [],
   "source": [
    "data2 = zlib.decompress(zdata).decode(\"utf-8\")"
   ]
  },
  {
   "cell_type": "code",
   "execution_count": 15,
   "metadata": {},
   "outputs": [
    {
     "data": {
      "text/plain": [
       "'hello world!hello world!hello world!hello world!'"
      ]
     },
     "execution_count": 15,
     "metadata": {},
     "output_type": "execute_result"
    }
   ],
   "source": [
    "data2"
   ]
  },
  {
   "cell_type": "markdown",
   "metadata": {},
   "source": [
    "# Question 81\n",
    "Please write a program to print the running time of execution of \"1+1\" for 100 times.\n",
    "\n"
   ]
  },
  {
   "cell_type": "code",
   "execution_count": 16,
   "metadata": {},
   "outputs": [],
   "source": [
    "from timeit import Timer"
   ]
  },
  {
   "cell_type": "code",
   "execution_count": 17,
   "metadata": {},
   "outputs": [],
   "source": [
    "t = Timer(\"for i in range(100):1+1\")"
   ]
  },
  {
   "cell_type": "code",
   "execution_count": 19,
   "metadata": {},
   "outputs": [
    {
     "name": "stdout",
     "output_type": "stream",
     "text": [
      "1.5552908320000824\n"
     ]
    }
   ],
   "source": [
    "print (t.timeit())"
   ]
  },
  {
   "cell_type": "code",
   "execution_count": null,
   "metadata": {},
   "outputs": [],
   "source": [
    "## 잘 모르겠음"
   ]
  },
  {
   "cell_type": "code",
   "execution_count": 20,
   "metadata": {},
   "outputs": [],
   "source": [
    "import datetime"
   ]
  },
  {
   "cell_type": "code",
   "execution_count": 21,
   "metadata": {},
   "outputs": [],
   "source": [
    "before = datetime.datetime.now()\n",
    "for i in range(100):\n",
    "    x = 1 + 1 \n",
    "after = datetime.datetime.now()\n",
    "execution_time = after - before"
   ]
  },
  {
   "cell_type": "code",
   "execution_count": 22,
   "metadata": {},
   "outputs": [
    {
     "name": "stdout",
     "output_type": "stream",
     "text": [
      "195\n"
     ]
    }
   ],
   "source": [
    "print(execution_time.microseconds)"
   ]
  },
  {
   "cell_type": "markdown",
   "metadata": {},
   "source": [
    "# Question 82\n",
    "Please write a program to shuffle and print the list [3,6,7,8]."
   ]
  },
  {
   "cell_type": "code",
   "execution_count": 25,
   "metadata": {},
   "outputs": [],
   "source": [
    "import random\n",
    "list1 =  [3, 6, 7, 8]\n",
    "random.shuffle(list1)"
   ]
  },
  {
   "cell_type": "code",
   "execution_count": 26,
   "metadata": {},
   "outputs": [
    {
     "name": "stdout",
     "output_type": "stream",
     "text": [
      "[6, 3, 7, 8]\n"
     ]
    }
   ],
   "source": [
    "print(list1)"
   ]
  },
  {
   "cell_type": "code",
   "execution_count": 27,
   "metadata": {},
   "outputs": [],
   "source": [
    "# 순서가 중요하대 -> list "
   ]
  },
  {
   "cell_type": "markdown",
   "metadata": {},
   "source": [
    "# Question 83\n",
    "Please write a program to shuffle and print the list [3,6,7,8].\n",
    "\n"
   ]
  },
  {
   "cell_type": "code",
   "execution_count": 28,
   "metadata": {},
   "outputs": [
    {
     "name": "stdout",
     "output_type": "stream",
     "text": [
      "[6, 8, 3, 7]\n"
     ]
    }
   ],
   "source": [
    "import random\n",
    "list1 =  [3, 6, 7, 8]\n",
    "random.shuffle(list1)\n",
    "print(list1)\n"
   ]
  },
  {
   "cell_type": "markdown",
   "metadata": {},
   "source": [
    "# Question 84\n",
    "Please write a program to generate all sentences where subject is in [\"I\", \"You\"] and verb is in [\"Play\", \"Love\"] and the object is in [\"Hockey\",\"Football\"].\n",
    "\n"
   ]
  },
  {
   "cell_type": "code",
   "execution_count": 30,
   "metadata": {},
   "outputs": [],
   "source": [
    "sub =  [\"I\", \"You\"] "
   ]
  },
  {
   "cell_type": "code",
   "execution_count": 56,
   "metadata": {},
   "outputs": [],
   "source": [
    "sub =  [\"I\", \"You\"] \n",
    "verb =  [\"Play\", \"Love\"] \n",
    "obj =  [\"Hockey\",\"Football\"]"
   ]
  },
  {
   "cell_type": "code",
   "execution_count": 57,
   "metadata": {},
   "outputs": [
    {
     "data": {
      "text/plain": [
       "'I'"
      ]
     },
     "execution_count": 57,
     "metadata": {},
     "output_type": "execute_result"
    }
   ],
   "source": [
    "random.choice(sub)"
   ]
  },
  {
   "cell_type": "code",
   "execution_count": 58,
   "metadata": {},
   "outputs": [
    {
     "data": {
      "text/plain": [
       "'You Love Football'"
      ]
     },
     "execution_count": 58,
     "metadata": {},
     "output_type": "execute_result"
    }
   ],
   "source": [
    "random.choice(sub)+ \" \" + random.choice(verb)+\" \" + random.choice(obj)"
   ]
  },
  {
   "cell_type": "code",
   "execution_count": 70,
   "metadata": {},
   "outputs": [
    {
     "name": "stdout",
     "output_type": "stream",
     "text": [
      "I Play Hockey\n",
      "I Play Football\n",
      "I Love Hockey\n",
      "I Love Football\n",
      "You Play Hockey\n",
      "You Play Football\n",
      "You Love Hockey\n",
      "You Love Football\n"
     ]
    }
   ],
   "source": [
    "#다른 풀이. 잘 모르겠어유 .. \n",
    "sub =  [\"I\", \"You\"] \n",
    "verb = [\"Play\", \"Love\"] \n",
    "obj =  [\"Hockey\",\"Football\"]\n",
    "\n",
    "for i in sub :\n",
    "    for j in verb:\n",
    "        for k in obj:\n",
    "            sentence =  i + \" \" + j + \" \" + k \n",
    "            print(sentence)"
   ]
  },
  {
   "cell_type": "markdown",
   "metadata": {},
   "source": [
    "# Question 85\n",
    "Please write a program to print the list after removing delete even numbers in [5,6,77,45,22,12,24].\n",
    "\n"
   ]
  },
  {
   "cell_type": "code",
   "execution_count": 35,
   "metadata": {},
   "outputs": [],
   "source": [
    "list1 = [5,6,77,45,22,12,24]"
   ]
  },
  {
   "cell_type": "code",
   "execution_count": 37,
   "metadata": {},
   "outputs": [
    {
     "name": "stdout",
     "output_type": "stream",
     "text": [
      "[5, 77, 45]\n"
     ]
    }
   ],
   "source": [
    "print([i for i in list1 if i % 2 != 0])"
   ]
  },
  {
   "cell_type": "markdown",
   "metadata": {},
   "source": [
    "# Question 86\n",
    "By using list comprehension, please write a program to print the list after removing delete numbers which are divisible by 5 and 7 in [12,24,35,70,88,120,155]."
   ]
  },
  {
   "cell_type": "code",
   "execution_count": 39,
   "metadata": {},
   "outputs": [],
   "source": [
    "list1 = [12,24,35,70,88,120,155]"
   ]
  },
  {
   "cell_type": "code",
   "execution_count": 40,
   "metadata": {},
   "outputs": [
    {
     "name": "stdout",
     "output_type": "stream",
     "text": [
      "[12, 24, 88, 120, 155]\n"
     ]
    }
   ],
   "source": [
    "print([i for i in list1 if i % 35 != 0])"
   ]
  },
  {
   "cell_type": "markdown",
   "metadata": {},
   "source": [
    "# Question 87\n",
    "By using list comprehension, please write a program to print the list after removing the 0th, 2nd, 4th,6th numbers in [12,24,35,70,88,120,155]."
   ]
  },
  {
   "cell_type": "code",
   "execution_count": 41,
   "metadata": {},
   "outputs": [],
   "source": [
    "list1 = [12,24,35,70,88,120,155]"
   ]
  },
  {
   "cell_type": "code",
   "execution_count": 48,
   "metadata": {},
   "outputs": [
    {
     "data": {
      "text/plain": [
       "12"
      ]
     },
     "execution_count": 48,
     "metadata": {},
     "output_type": "execute_result"
    }
   ],
   "source": [
    "list1.pop(0)"
   ]
  },
  {
   "cell_type": "code",
   "execution_count": 50,
   "metadata": {},
   "outputs": [
    {
     "data": {
      "text/plain": [
       "35"
      ]
     },
     "execution_count": 50,
     "metadata": {},
     "output_type": "execute_result"
    }
   ],
   "source": [
    "list1.pop(1)"
   ]
  },
  {
   "cell_type": "code",
   "execution_count": 51,
   "metadata": {},
   "outputs": [
    {
     "data": {
      "text/plain": [
       "88"
      ]
     },
     "execution_count": 51,
     "metadata": {},
     "output_type": "execute_result"
    }
   ],
   "source": [
    "list1.pop(2)"
   ]
  },
  {
   "cell_type": "code",
   "execution_count": 52,
   "metadata": {},
   "outputs": [
    {
     "data": {
      "text/plain": [
       "155"
      ]
     },
     "execution_count": 52,
     "metadata": {},
     "output_type": "execute_result"
    }
   ],
   "source": [
    "list1.pop(3)"
   ]
  },
  {
   "cell_type": "code",
   "execution_count": 53,
   "metadata": {},
   "outputs": [
    {
     "data": {
      "text/plain": [
       "[24, 70, 120]"
      ]
     },
     "execution_count": 53,
     "metadata": {},
     "output_type": "execute_result"
    }
   ],
   "source": [
    "list1"
   ]
  },
  {
   "cell_type": "code",
   "execution_count": 72,
   "metadata": {},
   "outputs": [
    {
     "name": "stdout",
     "output_type": "stream",
     "text": [
      "<enumerate object at 0x10e5786e0>\n"
     ]
    },
    {
     "data": {
      "text/plain": [
       "[(0, '철수'), (1, '영희'), (2, '영수')]"
      ]
     },
     "execution_count": 72,
     "metadata": {},
     "output_type": "execute_result"
    }
   ],
   "source": [
    "names = ['철수', '영희', '영수']\n",
    "index_names = enumerate(names)\n",
    "print(index_names)\n",
    "\n",
    "[(0, '철수'), (1, '영희'), (2, '영수')]"
   ]
  },
  {
   "cell_type": "code",
   "execution_count": 85,
   "metadata": {},
   "outputs": [],
   "source": [
    "# enumerate\n",
    "list1 = [12,24,35,70,88,120,155]"
   ]
  },
  {
   "cell_type": "code",
   "execution_count": 86,
   "metadata": {},
   "outputs": [],
   "source": [
    "list2 = [item for i , item in enumerate(list1) if i % 2 == 0 ]"
   ]
  },
  {
   "cell_type": "code",
   "execution_count": 87,
   "metadata": {},
   "outputs": [
    {
     "data": {
      "text/plain": [
       "[12, 35, 88, 155]"
      ]
     },
     "execution_count": 87,
     "metadata": {},
     "output_type": "execute_result"
    }
   ],
   "source": [
    "list2"
   ]
  },
  {
   "cell_type": "code",
   "execution_count": 104,
   "metadata": {},
   "outputs": [],
   "source": [
    "list1 = [12,24,35,70,88,120,155]\n",
    "list2 = []\n",
    "for i in range(len(list1)):\n",
    "    if (i+1) % 2 != 0 :\n",
    "        list2.append(list1[i])\n",
    "\n"
   ]
  },
  {
   "cell_type": "code",
   "execution_count": 105,
   "metadata": {},
   "outputs": [
    {
     "data": {
      "text/plain": [
       "[12, 35, 88, 155]"
      ]
     },
     "execution_count": 105,
     "metadata": {},
     "output_type": "execute_result"
    }
   ],
   "source": [
    "list2\n"
   ]
  },
  {
   "cell_type": "markdown",
   "metadata": {},
   "source": [
    "# Question 88\n",
    "By using list comprehension, please write a program generate a 358 3D array whose each element is 0.\n",
    "\n"
   ]
  },
  {
   "cell_type": "code",
   "execution_count": null,
   "metadata": {},
   "outputs": [],
   "source": [
    "# 2Dim: 2X3\n",
    "[\n",
    "    [0, 0, 0],\n",
    "    [0, 0, 0]\n",
    "]\n",
    "\n",
    "# 3Dim: 2X3X5\n",
    "[\n",
    "    [\n",
    "        [0, 0, 0, 0, 0],\n",
    "        [0, 0, 0, 0, 0],\n",
    "        [0, 0, 0, 0, 0]\n",
    "    ],\n",
    "    [\n",
    "        [0, 0, 0, 0, 0],\n",
    "        [0, 0, 0, 0, 0],\n",
    "        [0, 0, 0, 0, 0]\n",
    "    ]\n",
    "]\n",
    "\n",
    "# 3Dim: 3X5X8\n",
    "\n",
    "[\n",
    "    [\n",
    "        [0, 0, 0, 0, 0, 0, 0, 0],\n",
    "        [0, 0, 0, 0, 0, 0, 0, 0],\n",
    "        [0, 0, 0, 0, 0, 0, 0, 0],\n",
    "        [0, 0, 0, 0, 0, 0, 0, 0],\n",
    "        [0, 0, 0, 0, 0, 0, 0, 0]\n",
    "    ],\n",
    "    [\n",
    "        [0, 0, 0, 0, 0, 0, 0, 0],\n",
    "        [0, 0, 0, 0, 0, 0, 0, 0],\n",
    "        [0, 0, 0, 0, 0, 0, 0, 0],\n",
    "        [0, 0, 0, 0, 0, 0, 0, 0],\n",
    "        [0, 0, 0, 0, 0, 0, 0, 0]\n",
    "    ],\n",
    "    [\n",
    "        [0, 0, 0, 0, 0, 0, 0, 0],\n",
    "        [0, 0, 0, 0, 0, 0, 0, 0],\n",
    "        [0, 0, 0, 0, 0, 0, 0, 0],\n",
    "        [0, 0, 0, 0, 0, 0, 0, 0],\n",
    "        [0, 0, 0, 0, 0, 0, 0, 0]\n",
    "    ]\n",
    "    \n",
    "]\n"
   ]
  },
  {
   "cell_type": "code",
   "execution_count": 106,
   "metadata": {},
   "outputs": [],
   "source": [
    "list1 = []\n",
    "for i in range(8):\n",
    "    list1.append(0)"
   ]
  },
  {
   "cell_type": "code",
   "execution_count": 107,
   "metadata": {},
   "outputs": [
    {
     "data": {
      "text/plain": [
       "[0, 0, 0, 0, 0, 0, 0, 0]"
      ]
     },
     "execution_count": 107,
     "metadata": {},
     "output_type": "execute_result"
    }
   ],
   "source": [
    "list1"
   ]
  },
  {
   "cell_type": "code",
   "execution_count": 119,
   "metadata": {},
   "outputs": [],
   "source": [
    "def func(x, y, z): \n",
    "    list2 = [[[ 0 for i in range(z)] for i in range(y)] for i in range(x)]\n",
    "    return list2"
   ]
  },
  {
   "cell_type": "code",
   "execution_count": 120,
   "metadata": {},
   "outputs": [
    {
     "data": {
      "text/plain": [
       "[[[0, 0, 0, 0, 0, 0, 0, 0],\n",
       "  [0, 0, 0, 0, 0, 0, 0, 0],\n",
       "  [0, 0, 0, 0, 0, 0, 0, 0],\n",
       "  [0, 0, 0, 0, 0, 0, 0, 0],\n",
       "  [0, 0, 0, 0, 0, 0, 0, 0]],\n",
       " [[0, 0, 0, 0, 0, 0, 0, 0],\n",
       "  [0, 0, 0, 0, 0, 0, 0, 0],\n",
       "  [0, 0, 0, 0, 0, 0, 0, 0],\n",
       "  [0, 0, 0, 0, 0, 0, 0, 0],\n",
       "  [0, 0, 0, 0, 0, 0, 0, 0]],\n",
       " [[0, 0, 0, 0, 0, 0, 0, 0],\n",
       "  [0, 0, 0, 0, 0, 0, 0, 0],\n",
       "  [0, 0, 0, 0, 0, 0, 0, 0],\n",
       "  [0, 0, 0, 0, 0, 0, 0, 0],\n",
       "  [0, 0, 0, 0, 0, 0, 0, 0]]]"
      ]
     },
     "execution_count": 120,
     "metadata": {},
     "output_type": "execute_result"
    }
   ],
   "source": [
    "func(3, 5, 8)"
   ]
  },
  {
   "cell_type": "markdown",
   "metadata": {},
   "source": [
    "# Question 89\n",
    "By using list comprehension, please write a program to print the list after removing the 0th,4th,5th numbers in [12,24,35,70,88,120,155]."
   ]
  },
  {
   "cell_type": "code",
   "execution_count": 123,
   "metadata": {},
   "outputs": [],
   "source": [
    "list1 = [12,24,35,70,88,120,155]"
   ]
  },
  {
   "cell_type": "code",
   "execution_count": 124,
   "metadata": {},
   "outputs": [],
   "source": [
    "list2 = []\n",
    "for i, item in enumerate(list1) : \n",
    "    if i == 0 :\n",
    "        pass\n",
    "    else :\n",
    "        list2.append(list1[i])"
   ]
  },
  {
   "cell_type": "code",
   "execution_count": 125,
   "metadata": {},
   "outputs": [
    {
     "data": {
      "text/plain": [
       "[24, 35, 70, 88, 120, 155]"
      ]
     },
     "execution_count": 125,
     "metadata": {},
     "output_type": "execute_result"
    }
   ],
   "source": [
    "list2"
   ]
  },
  {
   "cell_type": "markdown",
   "metadata": {},
   "source": [
    "# Question 90\n",
    "By using list comprehension, please write a program to print the list after removing the value 24 in [12,24,35,24,88,120,155].\n",
    "\n"
   ]
  },
  {
   "cell_type": "code",
   "execution_count": 127,
   "metadata": {},
   "outputs": [],
   "source": [
    "list1 = [12,24,35,24,88,120,155]"
   ]
  },
  {
   "cell_type": "code",
   "execution_count": 128,
   "metadata": {},
   "outputs": [],
   "source": [
    "list2 = [i for i in list1 if i != 24]"
   ]
  },
  {
   "cell_type": "code",
   "execution_count": 129,
   "metadata": {},
   "outputs": [
    {
     "data": {
      "text/plain": [
       "[12, 35, 88, 120, 155]"
      ]
     },
     "execution_count": 129,
     "metadata": {},
     "output_type": "execute_result"
    }
   ],
   "source": [
    "list2"
   ]
  },
  {
   "cell_type": "markdown",
   "metadata": {},
   "source": [
    "# Question 91\n",
    "With two given lists [1,3,6,78,35,55] and [12,24,35,24,88,120,155], write a program to make a list whose elements are intersection of the above given lists.\n",
    "\n"
   ]
  },
  {
   "cell_type": "code",
   "execution_count": 130,
   "metadata": {},
   "outputs": [],
   "source": [
    "list1 = [1,3,6,78,35,55] \n",
    "list2 = [12,24,35,24,88,120,155]"
   ]
  },
  {
   "cell_type": "code",
   "execution_count": 134,
   "metadata": {},
   "outputs": [],
   "source": [
    "list3 = []\n",
    "for i in list1:\n",
    "    for j in list2:\n",
    "        if i == j :\n",
    "            list3.append(i)"
   ]
  },
  {
   "cell_type": "code",
   "execution_count": 135,
   "metadata": {},
   "outputs": [
    {
     "data": {
      "text/plain": [
       "[35]"
      ]
     },
     "execution_count": 135,
     "metadata": {},
     "output_type": "execute_result"
    }
   ],
   "source": [
    "list3"
   ]
  },
  {
   "cell_type": "markdown",
   "metadata": {},
   "source": [
    "# Question 92\n",
    "With a given list [12,24,35,24,88,120,155,88,120,155], write a program to print this list after removing all duplicate values with original order reserved.\n",
    "\n"
   ]
  },
  {
   "cell_type": "code",
   "execution_count": 136,
   "metadata": {},
   "outputs": [],
   "source": [
    "list1 = [12,24,35,24,88,120,155,88,120,155]\n",
    "set1 = set(list1)"
   ]
  },
  {
   "cell_type": "code",
   "execution_count": 137,
   "metadata": {},
   "outputs": [],
   "source": [
    "list2 = list(set1)"
   ]
  },
  {
   "cell_type": "code",
   "execution_count": 138,
   "metadata": {},
   "outputs": [
    {
     "data": {
      "text/plain": [
       "[35, 12, 155, 24, 88, 120]"
      ]
     },
     "execution_count": 138,
     "metadata": {},
     "output_type": "execute_result"
    }
   ],
   "source": [
    "list2"
   ]
  },
  {
   "cell_type": "code",
   "execution_count": null,
   "metadata": {},
   "outputs": [],
   "source": [
    "# 다른풀이 (order reserved )"
   ]
  },
  {
   "cell_type": "code",
   "execution_count": 140,
   "metadata": {},
   "outputs": [],
   "source": [
    "list1 = [12,24,35,24,88,120,155,88,120,155]\n",
    "newlist = []\n",
    "seen = set()\n",
    "for i in list1 :\n",
    "    if i not in seen :\n",
    "        seen.add(i)\n",
    "        newlist.append(i)"
   ]
  },
  {
   "cell_type": "code",
   "execution_count": 141,
   "metadata": {},
   "outputs": [
    {
     "data": {
      "text/plain": [
       "[12, 24, 35, 88, 120, 155]"
      ]
     },
     "execution_count": 141,
     "metadata": {},
     "output_type": "execute_result"
    }
   ],
   "source": [
    "newlist"
   ]
  },
  {
   "cell_type": "markdown",
   "metadata": {},
   "source": [
    "# Question 93\n",
    "Define a class Person and its two child classes: Male and Female. All classes have a method \"getGender\" which can print \"Male\" for Male class and \"Female\" for Female class.\n",
    "\n"
   ]
  },
  {
   "cell_type": "code",
   "execution_count": 143,
   "metadata": {},
   "outputs": [
    {
     "name": "stdout",
     "output_type": "stream",
     "text": [
      "Male\n"
     ]
    }
   ],
   "source": [
    "class Person():\n",
    "    def getGender(self):\n",
    "        return \"Unknown\"\n",
    "\n",
    "class Male(Person):\n",
    "    def getGender(self):\n",
    "        return \"Male\"\n",
    "    \n",
    "class Female(Person):\n",
    "    def getGender(self):\n",
    "        return \"Female\"    \n",
    "    \n",
    "aMale = Male()\n",
    "aFemale = Female()\n",
    "\n",
    "print(aMale.getGender())"
   ]
  },
  {
   "cell_type": "code",
   "execution_count": null,
   "metadata": {},
   "outputs": [],
   "source": [
    "# CLASS 개념 다시 "
   ]
  },
  {
   "cell_type": "markdown",
   "metadata": {},
   "source": [
    "# Question 94\n",
    "Please write a program which count and print the numbers of each character in a string input by console.\n",
    "\n",
    "Example:\n",
    "If the following string is given as input to the program:\n",
    "\n",
    "abcdefgabc\n",
    "\n",
    "Then, the output of the program should be:\n",
    "\n",
    "a,2\n",
    "c,2\n",
    "b,2\n",
    "e,1\n",
    "d,1\n",
    "g,1\n",
    "f,1"
   ]
  },
  {
   "cell_type": "code",
   "execution_count": 145,
   "metadata": {},
   "outputs": [
    {
     "name": "stdout",
     "output_type": "stream",
     "text": [
      "abcdefgabc\n"
     ]
    }
   ],
   "source": [
    "string = input()"
   ]
  },
  {
   "cell_type": "code",
   "execution_count": 157,
   "metadata": {},
   "outputs": [],
   "source": [
    "string_to_list = list(string)"
   ]
  },
  {
   "cell_type": "code",
   "execution_count": 158,
   "metadata": {},
   "outputs": [
    {
     "data": {
      "text/plain": [
       "['a', 'b', 'c', 'd', 'e', 'f', 'g', 'a', 'b', 'c']"
      ]
     },
     "execution_count": 158,
     "metadata": {},
     "output_type": "execute_result"
    }
   ],
   "source": [
    "string_to_list"
   ]
  },
  {
   "cell_type": "code",
   "execution_count": 161,
   "metadata": {},
   "outputs": [],
   "source": [
    "seen = {}\n",
    "for i in string_to_list:\n",
    "    seen[i] = string_to_list.count(i)  "
   ]
  },
  {
   "cell_type": "code",
   "execution_count": 162,
   "metadata": {},
   "outputs": [
    {
     "data": {
      "text/plain": [
       "{'a': 2, 'b': 2, 'c': 2, 'd': 1, 'e': 1, 'f': 1, 'g': 1}"
      ]
     },
     "execution_count": 162,
     "metadata": {},
     "output_type": "execute_result"
    }
   ],
   "source": [
    "seen"
   ]
  },
  {
   "cell_type": "code",
   "execution_count": 168,
   "metadata": {},
   "outputs": [
    {
     "data": {
      "text/plain": [
       "'a,2 b,2 c,2 d,1 e,1 f,1 g,1 '"
      ]
     },
     "execution_count": 168,
     "metadata": {},
     "output_type": "execute_result"
    }
   ],
   "source": [
    "result = ''\n",
    "for key in seen:\n",
    "    result += key + ',' + str(seen[key]) + ' '\n",
    "result"
   ]
  },
  {
   "cell_type": "markdown",
   "metadata": {},
   "source": [
    "# Question 95\n",
    "Please write a program which accepts a string from console and print it in reverse order.\n",
    "\n",
    "Example:\n",
    "If the following string is given as input to the program:\n",
    "\n",
    "rise to vote sir\n",
    "\n",
    "Then, the output of the program should be:\n",
    "\n",
    "ris etov ot esir\n",
    "\n"
   ]
  },
  {
   "cell_type": "code",
   "execution_count": 169,
   "metadata": {},
   "outputs": [
    {
     "name": "stdout",
     "output_type": "stream",
     "text": [
      "rise to vote sir\n"
     ]
    }
   ],
   "source": [
    "string = input()"
   ]
  },
  {
   "cell_type": "code",
   "execution_count": 178,
   "metadata": {},
   "outputs": [],
   "source": [
    "str_to_list = list(string)"
   ]
  },
  {
   "cell_type": "code",
   "execution_count": 188,
   "metadata": {},
   "outputs": [],
   "source": [
    "str_reverse = list(reversed(str_to_list))"
   ]
  },
  {
   "cell_type": "code",
   "execution_count": 191,
   "metadata": {},
   "outputs": [
    {
     "name": "stdout",
     "output_type": "stream",
     "text": [
      "ris etov ot esir\n"
     ]
    }
   ],
   "source": [
    "print(''.join(str_reverse))"
   ]
  },
  {
   "cell_type": "markdown",
   "metadata": {},
   "source": [
    "# Question 96\n",
    "Please write a program which accepts a string from console and print the characters that have even indexes.\n",
    "\n",
    "Example:\n",
    "If the following string is given as input to the program:\n",
    "\n",
    "H1e2l3l4o5w6o7r8l9d\n",
    "\n",
    "Then, the output of the program should be:\n",
    "\n",
    "Helloworld"
   ]
  },
  {
   "cell_type": "code",
   "execution_count": 192,
   "metadata": {},
   "outputs": [
    {
     "name": "stdout",
     "output_type": "stream",
     "text": [
      "H1e2l3l4o5w6o7r8l9d\n"
     ]
    }
   ],
   "source": [
    "string = input()"
   ]
  },
  {
   "cell_type": "code",
   "execution_count": 193,
   "metadata": {},
   "outputs": [
    {
     "data": {
      "text/plain": [
       "'H1e2l3l4o5w6o7r8l9d'"
      ]
     },
     "execution_count": 193,
     "metadata": {},
     "output_type": "execute_result"
    }
   ],
   "source": [
    "string"
   ]
  },
  {
   "cell_type": "code",
   "execution_count": 195,
   "metadata": {},
   "outputs": [],
   "source": [
    "s1 = [ string[i] for i in range(len(string)) if i % 2 == 0 ]"
   ]
  },
  {
   "cell_type": "code",
   "execution_count": 196,
   "metadata": {},
   "outputs": [
    {
     "data": {
      "text/plain": [
       "['H', 'e', 'l', 'l', 'o', 'w', 'o', 'r', 'l', 'd']"
      ]
     },
     "execution_count": 196,
     "metadata": {},
     "output_type": "execute_result"
    }
   ],
   "source": [
    "s1"
   ]
  },
  {
   "cell_type": "code",
   "execution_count": 197,
   "metadata": {},
   "outputs": [
    {
     "name": "stdout",
     "output_type": "stream",
     "text": [
      "Helloworld\n"
     ]
    }
   ],
   "source": [
    "print(''.join(s1))"
   ]
  },
  {
   "cell_type": "markdown",
   "metadata": {},
   "source": [
    "# Question 97\n",
    "Please write a program which prints all permutations of [1,2,3]"
   ]
  },
  {
   "cell_type": "code",
   "execution_count": 198,
   "metadata": {},
   "outputs": [],
   "source": [
    "a = [1,2,3]"
   ]
  },
  {
   "cell_type": "code",
   "execution_count": 202,
   "metadata": {},
   "outputs": [],
   "source": [
    "from itertools import permutations\n",
    "permu = permutations(a)"
   ]
  },
  {
   "cell_type": "code",
   "execution_count": 203,
   "metadata": {},
   "outputs": [
    {
     "name": "stdout",
     "output_type": "stream",
     "text": [
      "[(1, 2, 3), (1, 3, 2), (2, 1, 3), (2, 3, 1), (3, 1, 2), (3, 2, 1)]\n"
     ]
    }
   ],
   "source": [
    "print(list(permu))"
   ]
  },
  {
   "cell_type": "markdown",
   "metadata": {},
   "source": [
    "# Question 98\n",
    "Write a program to solve a classic ancient Chinese puzzle:\n",
    "We count 35 heads and 94 legs among the chickens and rabbits in a farm. How many rabbits and how many chickens do we have?"
   ]
  },
  {
   "cell_type": "code",
   "execution_count": 215,
   "metadata": {},
   "outputs": [],
   "source": [
    "def solve(h, l):\n",
    "    for i in range(h+1):\n",
    "        j = h - i \n",
    "        if 2 * i + 4 * j == l :\n",
    "            return i, j\n",
    "        \n",
    "    "
   ]
  },
  {
   "cell_type": "code",
   "execution_count": 216,
   "metadata": {},
   "outputs": [
    {
     "data": {
      "text/plain": [
       "(23, 12)"
      ]
     },
     "execution_count": 216,
     "metadata": {},
     "output_type": "execute_result"
    }
   ],
   "source": [
    "solve(35, 94)"
   ]
  },
  {
   "cell_type": "code",
   "execution_count": null,
   "metadata": {},
   "outputs": [],
   "source": []
  }
 ],
 "metadata": {
  "kernelspec": {
   "display_name": "Python 3",
   "language": "python",
   "name": "python3"
  },
  "language_info": {
   "codemirror_mode": {
    "name": "ipython",
    "version": 3
   },
   "file_extension": ".py",
   "mimetype": "text/x-python",
   "name": "python",
   "nbconvert_exporter": "python",
   "pygments_lexer": "ipython3",
   "version": "3.7.4"
  }
 },
 "nbformat": 4,
 "nbformat_minor": 2
}
